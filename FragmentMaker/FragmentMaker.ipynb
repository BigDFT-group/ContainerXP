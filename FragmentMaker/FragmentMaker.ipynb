{
 "cells": [
  {
   "cell_type": "code",
   "execution_count": 1,
   "metadata": {},
   "outputs": [
    {
     "data": {
      "text/plain": [
       "<module 'BigDFT.Fragments' from '/Docker/Build/install/lib/python2.7/site-packages/BigDFT/Fragments.pyc'>"
      ]
     },
     "execution_count": 1,
     "metadata": {},
     "output_type": "execute_result"
    }
   ],
   "source": [
    "from BigDFT import Fragments\n",
    "reload(Fragments)"
   ]
  },
  {
   "cell_type": "code",
   "execution_count": 2,
   "metadata": {},
   "outputs": [
    {
     "ename": "AttributeError",
     "evalue": "'module' object has no attribute 'CreateFragDict'",
     "output_type": "error",
     "traceback": [
      "\u001b[0;31m---------------------------------------------------------------------------\u001b[0m",
      "\u001b[0;31mAttributeError\u001b[0m                            Traceback (most recent call last)",
      "\u001b[0;32m<ipython-input-2-d945cc339fdf>\u001b[0m in \u001b[0;36m<module>\u001b[0;34m()\u001b[0m\n\u001b[1;32m      3\u001b[0m \u001b[0;32mwith\u001b[0m \u001b[0mopen\u001b[0m\u001b[0;34m(\u001b[0m\u001b[0;34m\"start.yaml\"\u001b[0m\u001b[0;34m)\u001b[0m \u001b[0;32mas\u001b[0m \u001b[0mifile\u001b[0m\u001b[0;34m:\u001b[0m\u001b[0;34m\u001b[0m\u001b[0m\n\u001b[1;32m      4\u001b[0m     \u001b[0mstart\u001b[0m \u001b[0;34m=\u001b[0m \u001b[0myaml\u001b[0m\u001b[0;34m.\u001b[0m\u001b[0mload\u001b[0m\u001b[0;34m(\u001b[0m\u001b[0mifile\u001b[0m\u001b[0;34m)\u001b[0m\u001b[0;34m\u001b[0m\u001b[0m\n\u001b[0;32m----> 5\u001b[0;31m \u001b[0mfrag_dict\u001b[0m \u001b[0;34m=\u001b[0m \u001b[0mFragments\u001b[0m\u001b[0;34m.\u001b[0m\u001b[0mCreateFragDict\u001b[0m\u001b[0;34m(\u001b[0m\u001b[0mstart\u001b[0m\u001b[0;34m)\u001b[0m\u001b[0;34m\u001b[0m\u001b[0m\n\u001b[0m",
      "\u001b[0;31mAttributeError\u001b[0m: 'module' object has no attribute 'CreateFragDict'"
     ]
    }
   ],
   "source": [
    "import yaml\n",
    "\n",
    "with open(\"start.yaml\") as ifile:\n",
    "    start = yaml.load(ifile)\n",
    "frag_dict = Fragments.CreateFragDict(start)"
   ]
  },
  {
   "cell_type": "code",
   "execution_count": 7,
   "metadata": {},
   "outputs": [],
   "source": [
    "import copy\n",
    "def fragment(frag_dict, merge_list=None):\n",
    "    frag_list = []\n",
    "    new_dict = copy.deepcopy(frag_dict)\n",
    "    if merge_list:\n",
    "        for new_frag in merge_list:\n",
    "            temp = []\n",
    "            for target in new_frag:\n",
    "                fragname, fragid = target\n",
    "                temp += new_dict[fragname][fragid]\n",
    "                new_dict[fragname].pop(fragid)\n",
    "            frag_list.append(temp)\n",
    "    for fragname in new_dict:\n",
    "        for fragid in new_dict[fragname]:\n",
    "            frag_list.append(new_dict[fragname][fragid])\n",
    "    return frag_list"
   ]
  },
  {
   "cell_type": "code",
   "execution_count": 141,
   "metadata": {},
   "outputs": [],
   "source": [
    "frag_list = Fragments.CreateFragList(frag_dict)\n",
    "with open(\"base.yaml\",\"w\") as ofile:\n",
    "    ofile.write(yaml.dump([f[1] for f in frag_list]))"
   ]
  },
  {
   "cell_type": "code",
   "execution_count": 142,
   "metadata": {},
   "outputs": [],
   "source": [
    "merge_list = []\n",
    "merge_list.append([(\"GLY\",10), (\"GLY\",11)])\n",
    "merge_list.append([(\"CLA\", 568), (\"WAT\", 406)])\n",
    "frag_list = Fragments.CreateFragList(frag_dict, merge_list)\n",
    "with open(\"merged.yaml\", \"w\") as ofile:\n",
    "    ofile.write(yaml.dump([frag[1] for frag in frag_list]))"
   ]
  },
  {
   "cell_type": "code",
   "execution_count": 143,
   "metadata": {},
   "outputs": [],
   "source": [
    "sys = Fragments.System(posinp_dict=start)\n",
    "for f in sys.fragments:\n",
    "#     if f.id == \"CLA568\":\n",
    "    if f.id == Fragments.SetFragId(\"GLY\",10):\n",
    "        our_frag = f\n",
    "        break"
   ]
  },
  {
   "cell_type": "code",
   "execution_count": 144,
   "metadata": {},
   "outputs": [],
   "source": [
    "def GetNearest(fragtuple, threshold):\n",
    "    import numpy as np\n",
    "    sys = Fragments.System(posinp_dict=start)\n",
    "    for f in sys.fragments:\n",
    "        if f.id == Fragments.SetFragId(*fragtuple):\n",
    "            our_frag = f\n",
    "            break\n",
    "    distance_array =[Fragments.distance(our_frag, f, cell=start[\"cell\"]) for f in sys.fragments]\n",
    "    ipiv = np.argsort(distance_array)\n",
    "    shell = np.where(np.array(distance_array) < threshold)[0]\n",
    "    shellid = [sys.fragments[s].id for s in shell]\n",
    "    return shellid"
   ]
  },
  {
   "cell_type": "code",
   "execution_count": 145,
   "metadata": {},
   "outputs": [],
   "source": [
    "def CreateMergeList(neighborid):\n",
    "    return [Fragments.GetFragTuple(f) for f in neighborid]"
   ]
  },
  {
   "cell_type": "code",
   "execution_count": 146,
   "metadata": {},
   "outputs": [],
   "source": [
    "# merge_list.append(CreateMergeList(GetNearest((\"GLY\",10),3.0)))\n",
    "frag_list = []\n",
    "for distance in [4.0, 5.0]:\n",
    "    merge_list = [CreateMergeList(GetNearest((\"GLY\",10), distance))]\n",
    "    new_dict, temp_list = Fragments.MergeFragmentsTogether(frag_dict, merge_list)\n",
    "    frag_list += temp_list\n",
    "with open(\"merged.yaml\", \"w\") as ofile:\n",
    "    ofile.write(yaml.dump([frag[1] for frag in frag_list]))"
   ]
  },
  {
   "cell_type": "code",
   "execution_count": null,
   "metadata": {},
   "outputs": [],
   "source": []
  }
 ],
 "metadata": {
  "kernelspec": {
   "display_name": "Python 2",
   "language": "python",
   "name": "python2"
  },
  "language_info": {
   "codemirror_mode": {
    "name": "ipython",
    "version": 2
   },
   "file_extension": ".py",
   "mimetype": "text/x-python",
   "name": "python",
   "nbconvert_exporter": "python",
   "pygments_lexer": "ipython2",
   "version": "2.7.12"
  }
 },
 "nbformat": 4,
 "nbformat_minor": 2
}
