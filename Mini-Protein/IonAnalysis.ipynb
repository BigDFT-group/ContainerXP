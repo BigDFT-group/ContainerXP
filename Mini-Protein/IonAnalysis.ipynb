{
 "cells": [
  {
   "cell_type": "markdown",
   "metadata": {},
   "source": [
    "# Ion Analysis\n",
    "In this notebook, we will do all of the analysis for the ions. We will start by computing the purity values associated with those atoms. We will then build new fragments around the ions that improve the purity. We will next develop a buffer region using the interaction spilling equations. Finally, we will set up a QM/MM type run on those atoms."
   ]
  },
  {
   "cell_type": "markdown",
   "metadata": {},
   "source": [
    "## Loading Of Data\n",
    "This basic data structure will store all the matrices required."
   ]
  },
  {
   "cell_type": "code",
   "execution_count": null,
   "metadata": {},
   "outputs": [],
   "source": [
    "from CheSS import Matrices as M\n",
    "\n",
    "class blockparam:\n",
    "    def __init__(self, folder):\n",
    "        '''Initialize the parameters based on files.\n",
    "        '''\n",
    "        self.density_file = folder+\"/density_kernel_sparse.mtx\"\n",
    "        self.hamiltonian_file = folder+\"/hamiltonian_sparse.mtx\"\n",
    "        self.overlap_file = folder+\"/overlap_sparse.mtx\"\n",
    "        self.metadata_file = folder+\"/sparsematrix_metadata.dat\"\n",
    "        \n",
    "    def build_lookup(self):\n",
    "        '''Build a lookup list that gives you the basis functions for each atom.\n",
    "        '''\n",
    "        alookup = M.get_atomic_lookup(self.metadata_file)\n",
    "        self.atom_to_basis = [[] for x in range(0, max(alookup)+1)]\n",
    "        for basis, atom in enumerate(alookup):\n",
    "            self.atom_to_basis[atom].append(basis)\n",
    "    \n",
    "    def read_matrices(self):\n",
    "        '''Read in the files, build the overlap inverse.\n",
    "        '''\n",
    "        from scipy.io import mmread\n",
    "        from scipy.sparse.linalg import inv\n",
    "        self.overlap = mmread(self.overlap_file)\n",
    "        self.density = mmread(self.density_file)\n",
    "        self.hamiltonian = mmread(self.hamiltonian_file)\n",
    "        self.KS = 0.5*self.density.dot(self.overlap).todense()\n",
    "        self.sinv = inv(self.overlap)\n",
    "        self.sinvxh = self.sinv.dot(self.hamiltonian)\n",
    "        self.sinvxh2 = self.sinvxh.dot(self.sinvxh)"
   ]
  },
  {
   "cell_type": "code",
   "execution_count": null,
   "metadata": {},
   "outputs": [],
   "source": [
    "data = blockparam(\"Matrices\")\n",
    "data.build_lookup()\n",
    "data.read_matrices()\n",
    "geom_file = \"Matrices/1L2Y.yaml\"\n",
    "image_size = (12,4)"
   ]
  },
  {
   "cell_type": "code",
   "execution_count": null,
   "metadata": {},
   "outputs": [],
   "source": [
    "import yaml\n",
    "purity_file = \"PurityData/Single/1L2Y.yaml\"\n",
    "with open(purity_file) as ifile:\n",
    "    bigdft_purity = yaml.load(ifile)"
   ]
  },
  {
   "cell_type": "markdown",
   "metadata": {},
   "source": [
    "Build the fragment data structure."
   ]
  },
  {
   "cell_type": "code",
   "execution_count": null,
   "metadata": {},
   "outputs": [],
   "source": [
    "from BigDFT import Fragments as F\n",
    "from yaml import load\n",
    "with open(geom_file) as ifile:\n",
    "    sys = load(ifile)\n",
    "    positions = sys[\"Reading positions\"].itervalues().next()\n",
    "fdict = F.CreateFragDict(positions)"
   ]
  },
  {
   "cell_type": "markdown",
   "metadata": {},
   "source": [
    "We also will load the charge values in from BigDFT"
   ]
  },
  {
   "cell_type": "code",
   "execution_count": null,
   "metadata": {},
   "outputs": [],
   "source": [
    "def lookup_fragment(fdict, atomlist):\n",
    "    for fragname in fdict:\n",
    "        for fragid, atoms in fdict[fragname].items():\n",
    "            if set(atomlist) == set(atoms):\n",
    "                return fragname, fragid"
   ]
  },
  {
   "cell_type": "code",
   "execution_count": null,
   "metadata": {},
   "outputs": [],
   "source": [
    "cdict = {}\n",
    "for frag in bigdft_purity[\"Fragment multipoles\"]:\n",
    "    neutral_charge = frag[\"Neutral fragment charge\"]\n",
    "    q0 = frag[\"q0\"]\n",
    "    net_charge = neutral_charge + q0[0]\n",
    "    atomlist = frag[\"Atom IDs\"]\n",
    "    fragname, fragid = lookup_fragment(fdict, atomlist)\n",
    "    if not fragname in cdict:\n",
    "        cdict[fragname] = {}\n",
    "    cdict[fragname][fragid] = net_charge"
   ]
  },
  {
   "cell_type": "markdown",
   "metadata": {},
   "source": [
    "I have also generated the bader charge dipole values for each atom."
   ]
  },
  {
   "cell_type": "code",
   "execution_count": null,
   "metadata": {},
   "outputs": [],
   "source": [
    "bader_file = \"bader.yaml\"\n",
    "with open(bader_file) as ifile:\n",
    "    bader_data = load(ifile)[\"positions\"]\n",
    "bader_values = []\n",
    "for atom in bader_data:\n",
    "    bader_values.append(float(atom[\"Charge net\"]))"
   ]
  },
  {
   "cell_type": "markdown",
   "metadata": {},
   "source": [
    "## Purity Analysis\n",
    "Now we will compute the purity values, and in particular we'll focus on the purity values of the Chlorine atoms. First a charge lookup data structure."
   ]
  },
  {
   "cell_type": "code",
   "execution_count": null,
   "metadata": {},
   "outputs": [],
   "source": [
    "from numpy import zeros\n",
    "electron_lookup = {'H' :1, 'He':2, \n",
    "                   'Li':1, 'Be':2, 'B' :3, 'C': 4, 'N':5, 'O':6, 'F' :7, 'Ne':8,\n",
    "                   'Na':1, 'Mg':2, 'Al':3, 'Si':4, 'P':5, 'S':6, 'Cl':7}\n",
    "natoms = len(positions[\"positions\"])\n",
    "charge = zeros((natoms))\n",
    "for i, p in enumerate(positions[\"positions\"]):\n",
    "    name = p.keys()[1]\n",
    "    charge[i] = electron_lookup[name]"
   ]
  },
  {
   "cell_type": "markdown",
   "metadata": {},
   "source": [
    "A list of fragments."
   ]
  },
  {
   "cell_type": "code",
   "execution_count": null,
   "metadata": {},
   "outputs": [],
   "source": [
    "frag_list = []\n",
    "for fname in fdict.keys():\n",
    "    for fid in fdict[fname].keys():\n",
    "        frag_list.append(fdict[fname][fid])"
   ]
  },
  {
   "cell_type": "markdown",
   "metadata": {},
   "source": [
    "The subroutine used to compute the purity values."
   ]
  },
  {
   "cell_type": "code",
   "execution_count": null,
   "metadata": {},
   "outputs": [],
   "source": [
    "def compute_purity(param, charge, frag):\n",
    "    from numpy import zeros\n",
    "    from numpy import trace\n",
    "    from scipy.sparse import csr_matrix\n",
    "    if (len(frag)) == 0:\n",
    "        return 0\n",
    "    indices = []\n",
    "    cv = 0\n",
    "    for atom in frag:\n",
    "        indices += param.atom_to_basis[atom-1]\n",
    "        cv += charge[atom-1]\n",
    "\n",
    "    submat = param.KS[indices,:]\n",
    "    submat = submat[:,indices]\n",
    "    \n",
    "    return 2*trace(submat.dot(submat) - submat)/cv"
   ]
  },
  {
   "cell_type": "markdown",
   "metadata": {},
   "source": [
    "Compute and plot."
   ]
  },
  {
   "cell_type": "code",
   "execution_count": null,
   "metadata": {},
   "outputs": [],
   "source": [
    "purity_values = []\n",
    "for frag in frag_list:\n",
    "    purity_values.append(compute_purity(data, charge, frag))"
   ]
  },
  {
   "cell_type": "code",
   "execution_count": null,
   "metadata": {},
   "outputs": [],
   "source": [
    "from matplotlib import pyplot as plt\n",
    "\n",
    "fig, ax = plt.subplots(1, 1, figsize=(12,4))\n",
    "ax.plot(sorted(purity_values), 'x')\n",
    "ax.set_title(\"Purity Values\")\n",
    "ax.set_xlabel(\"Fragment ID\")"
   ]
  },
  {
   "cell_type": "markdown",
   "metadata": {},
   "source": [
    "### The Chlorine Purity Values\n",
    "Now we will do that same plot but show where the Chlorine atoms sit on that scale."
   ]
  },
  {
   "cell_type": "code",
   "execution_count": null,
   "metadata": {},
   "outputs": [],
   "source": [
    "target_list = []\n",
    "for fname in fdict.keys():\n",
    "    if not (fname == \"CLA\" or fname == \"SOD\"):\n",
    "        continue\n",
    "    for fid in fdict[fname].keys():\n",
    "        target_list.append(fdict[fname][fid])"
   ]
  },
  {
   "cell_type": "code",
   "execution_count": null,
   "metadata": {},
   "outputs": [],
   "source": [
    "target_purity = []\n",
    "for frag in target_list:\n",
    "    target_purity.append(compute_purity(data, charge, frag))"
   ]
  },
  {
   "cell_type": "code",
   "execution_count": null,
   "metadata": {},
   "outputs": [],
   "source": [
    "from matplotlib import pyplot as plt\n",
    "\n",
    "# find chlorine values in the sorted list\n",
    "spv = sorted(purity_values)\n",
    "x_cl = []\n",
    "for k in range(0, len(target_list)):\n",
    "    for i in range(0, len(purity_values)):\n",
    "        if target_purity[k] == spv[i]:\n",
    "            x_cl.append(i)\n",
    "            break\n",
    "\n",
    "fig, ax = plt.subplots(1, 1, figsize=(12,4))\n",
    "ax.plot(sorted(purity_values), 'x', markersize=10, label=\"All Values\")\n",
    "ax.plot(x_cl, target_purity, '.', markersize=25, label=\"Na/Cl\")\n",
    "ax.set_xlim(-2,len(purity_values))\n",
    "ax.set_title(\"Purity Values\")\n",
    "ax.set_xlabel(\"Fragment ID\")\n",
    "plt.legend(loc=\"best\")"
   ]
  },
  {
   "cell_type": "markdown",
   "metadata": {},
   "source": [
    "## Refragmentation of Chlorine\n",
    "Next we will try to add some neighboring water molecules to the Chlorine atoms to improve the purity values. First, a subroutine to get nearest neighbors."
   ]
  },
  {
   "cell_type": "code",
   "execution_count": null,
   "metadata": {},
   "outputs": [],
   "source": [
    "def GetNearest(fragtuple, sysfile, threshold=None, number=None):\n",
    "    import numpy as np\n",
    "    sys = F.System(posinp_dict=sysfile)\n",
    "    for f in sys.fragments:\n",
    "        if f.id == F.SetFragId(*fragtuple):\n",
    "            our_frag = f\n",
    "            break\n",
    "    distance_array =[F.distance(our_frag, f, cell=sysfile[\"cell\"]) for f in sys.fragments]\n",
    "    ipiv = np.argsort(distance_array)\n",
    "    if number:\n",
    "        shell = ipiv[:number]\n",
    "    else:\n",
    "        shell = np.where(np.array(distance_array) < threshold)[0]\n",
    "    shellid = [sys.fragments[s].id for s in shell]\n",
    "    return shellid"
   ]
  },
  {
   "cell_type": "markdown",
   "metadata": {},
   "source": [
    "Fragment tuples."
   ]
  },
  {
   "cell_type": "code",
   "execution_count": null,
   "metadata": {},
   "outputs": [],
   "source": [
    "frag_tuples = []\n",
    "for fname in fdict.keys():\n",
    "    if not (fname == \"CLA\" or fname == \"SOD\"):\n",
    "        continue\n",
    "    for fid in fdict[fname].keys():\n",
    "        frag_tuples.append((fname, fid))"
   ]
  },
  {
   "cell_type": "markdown",
   "metadata": {},
   "source": [
    "Next we will compute the purity values for the Chlorine+Water fragments."
   ]
  },
  {
   "cell_type": "code",
   "execution_count": null,
   "metadata": {},
   "outputs": [],
   "source": [
    "merged_purity = []\n",
    "merged_charge = []\n",
    "merged_bader = []\n",
    "for cl in frag_tuples:\n",
    "    merged_purity.append([])\n",
    "    merged_charge.append([])\n",
    "    merged_bader.append([])\n",
    "    for num_neighbors in range(0, 10):\n",
    "        neighbor_list = GetNearest(cl, positions, number=num_neighbors+1)\n",
    "        tlist = []\n",
    "        total_charge = 0\n",
    "        for n in neighbor_list:\n",
    "            fname, fid = n.split(\":\")\n",
    "            tlist.extend(fdict[fname][int(fid)])\n",
    "            total_charge += cdict[fname][int(fid)]\n",
    "        merged_purity[-1].append(compute_purity(data, charge, tlist))\n",
    "        merged_charge[-1].append(total_charge)\n",
    "        total_bader = 0\n",
    "        for atom in tlist:\n",
    "            total_bader += bader_values[atom-1]\n",
    "        merged_bader[-1].append(total_bader)"
   ]
  },
  {
   "cell_type": "code",
   "execution_count": null,
   "metadata": {},
   "outputs": [],
   "source": [
    "fig, ax = plt.subplots(2, 1, figsize=(6,6))\n",
    "\n",
    "marker = [\"o--\", \"d--\", \"h--\"]\n",
    "marker2 = [\"*--\", \"s--\", \"8--\"]\n",
    "colors= ['g', 'b', 'black']\n",
    "\n",
    "for i in range(len(frag_tuples)-1, -1, -1):\n",
    "    name = frag_tuples[i][0]+str(frag_tuples[i][1])\n",
    "    ax[0].plot(merged_purity[i], marker[i], label=\"Purity \"+name, color=colors[i], markersize=8)\n",
    "    ax[1].plot(merged_charge[i], marker[i], label=\"Mulliken \"+name, color=colors[i],  markersize=8)\n",
    "#     ax[1].plot(merged_bader[i], marker2[i], label=\"Bader \"+name, color=colors[i],  markersize=8)\n",
    "ax[0].set_xlim(-0.5, len(merged_purity[0]))\n",
    "ax[1].set_xlim(-0.5, len(merged_purity[0]))\n",
    "ax[1].set_ylim(-1.1, 1.1)\n",
    "ax[1].set_xlabel(\"Added Water Molecules\",fontsize=12)\n",
    "ax[0].set_ylabel(\"Purity Values\",fontsize=12)\n",
    "ax[1].set_ylabel(\"Net Charge\",fontsize=12)\n",
    "ax[0].legend(bbox_to_anchor=(1.45,1), ncol=1)\n",
    "ax[1].legend(bbox_to_anchor=(1.5,1), ncol=1)\n",
    "plt.savefig(\"Pictures/ChlorineRefrag.eps\", bbox_inches='tight')"
   ]
  },
  {
   "cell_type": "markdown",
   "metadata": {},
   "source": [
    "## Buffer Region\n",
    "Now we will construct the buffer region using the spillage information. First, the subroutine for doing the calculation."
   ]
  },
  {
   "cell_type": "code",
   "execution_count": null,
   "metadata": {},
   "outputs": [],
   "source": [
    "def compute_spillage(param, frag_F, frag_list):\n",
    "    from numpy import trace\n",
    "    val_list = []\n",
    "    if (len(frag_F)) == 0:\n",
    "        return 0\n",
    "    indices_f = []\n",
    "    \n",
    "    for atom in frag_F:\n",
    "        indices_f += param.atom_to_basis[atom-1]\n",
    "            \n",
    "    denom = param.sinvxh[:,indices_f]\n",
    "    denom = denom[indices_f,:]\n",
    "    denom = denom.todense()\n",
    "    denom = denom.dot(denom)\n",
    "    denom_t = trace(denom)\n",
    "\n",
    "    H2T = param.sinvxh2[:,indices_f]\n",
    "    H2T = H2T[indices_f,:]\n",
    "    left_t = trace(H2T.todense())\n",
    "    \n",
    "    for frag_G in frag_list:\n",
    "        indices_g = []\n",
    "        for atom in frag_G:\n",
    "            indices_g += param.atom_to_basis[atom-1]\n",
    "        \n",
    "        TFH = param.sinvxh[indices_f,:]\n",
    "        TFHTG = TFH[:,indices_g].todense()\n",
    "    \n",
    "        TGH = param.sinvxh[indices_g,:]\n",
    "        TGHTF = TGH[:,indices_f].todense()\n",
    "        \n",
    "        right_mat = (TFHTG.dot(TGHTF))\n",
    "        val = trace(right_mat)\n",
    "        val_list.append(val)\n",
    "\n",
    "    return left_t, val_list, denom_t, \n",
    "    "
   ]
  },
  {
   "cell_type": "markdown",
   "metadata": {},
   "source": [
    "And a helpful data structure for using this routine."
   ]
  },
  {
   "cell_type": "code",
   "execution_count": null,
   "metadata": {},
   "outputs": [],
   "source": [
    "class spillage_info():\n",
    "    def __init__(self, name, frag_dict, target):\n",
    "        self.name = name\n",
    "        self.frag_dict = frag_dict\n",
    "        self.target = target\n",
    "        self.frag_list = []\n",
    "        for fname in self.frag_dict.keys():\n",
    "            for fid in self.frag_dict[fname].keys():\n",
    "                self.frag_list.append(self.frag_dict[fname][fid])\n",
    "    def compute_spillage(self, data):\n",
    "        self.left, self.val_list, self.denom = compute_spillage(data, self.target, self.frag_list)\n",
    "    def plot(self, ax, marker):\n",
    "        ax.plot(sorted(self.val_list, reverse=True)/self.denom, marker, markersize=10, label=self.name)\n",
    "        "
   ]
  },
  {
   "cell_type": "markdown",
   "metadata": {},
   "source": [
    "Judging by the purity and charge values, it seems like adding three water molecules to the Chlorines is safe."
   ]
  },
  {
   "cell_type": "code",
   "execution_count": null,
   "metadata": {},
   "outputs": [],
   "source": [
    "from copy import deepcopy\n",
    "fdict = F.CreateFragDict(positions)\n",
    "\n",
    "Cl_targets = deepcopy(fdict)\n",
    "tname = \"Ion-Cluster\"\n",
    "Cl_targets[tname] = {}\n",
    "for i in range(0, len(frag_tuples)):\n",
    "    fname, fid = frag_tuples[i][0], frag_tuples[i][1]\n",
    "    Cl_targets[tname][fid] = deepcopy(fdict[fname][fid])\n",
    "    \n",
    "    del Cl_targets[fname][fid]\n",
    "    if not Cl_targets[fname]:\n",
    "        del Cl_targets[fname]\n",
    "        \n",
    "    neighbor_list = GetNearest(frag_tuples[i], positions, number=3+1)\n",
    "    for nei in neighbor_list[1:]:\n",
    "        nname, nid = nei.split(\":\")\n",
    "        Cl_targets[tname][fid] += fdict[nname][int(nid)]\n",
    "        \n",
    "        if nname in Cl_targets:\n",
    "            del Cl_targets[nname][int(nid)]\n",
    "            if not Cl_targets[nname]:\n",
    "                del Cl_targets[nname]\n",
    "print(Cl_targets[\"Ion-Cluster\"])"
   ]
  },
  {
   "cell_type": "code",
   "execution_count": null,
   "metadata": {},
   "outputs": [],
   "source": [
    "spillage_list = []\n",
    "for i in range(0, len(frag_tuples)):\n",
    "    fname, fid = frag_tuples[i][0], frag_tuples[i][1]\n",
    "    spillage_list.append(spillage_info(tname+\" \"+str(fid), Cl_targets, Cl_targets[tname][fid]))\n",
    "    spillage_list[i].compute_spillage(data)"
   ]
  },
  {
   "cell_type": "code",
   "execution_count": null,
   "metadata": {},
   "outputs": [],
   "source": [
    "fig, ax = plt.subplots(1,1)\n",
    "ax.set_yscale(\"log\")\n",
    "marker = [\".\", \"x\", 'h']\n",
    "for i in range(len(frag_tuples)-1, -1, -1):\n",
    "    spillage_list[i].plot(ax, marker[i])\n",
    "ax.set_xlim(-3,150)\n",
    "ax.set_ylim(1e-8, 5)\n",
    "ax.legend(loc=\"best\")"
   ]
  },
  {
   "cell_type": "markdown",
   "metadata": {},
   "source": [
    "### Extract Buffer\n",
    "With the spillage values calculated, we can now extract a buffer of a given threshold."
   ]
  },
  {
   "cell_type": "code",
   "execution_count": null,
   "metadata": {},
   "outputs": [],
   "source": [
    "def generate_buffer(target, threshold):\n",
    "    from numpy import array\n",
    "    merge = []\n",
    "    sval = []\n",
    "    for v in array(target.val_list).argsort()[::-1]:\n",
    "        if abs(target.val_list[v])/target.denom > threshold:\n",
    "            merge += target.frag_list[v]\n",
    "            sval.append(target.val_list[v])\n",
    "        else:\n",
    "            break\n",
    "    return merge, sval"
   ]
  },
  {
   "cell_type": "code",
   "execution_count": null,
   "metadata": {},
   "outputs": [],
   "source": [
    "thresh_list = [1e-1, 1e-2, 1e-3, 1e-4, 1e-5]\n",
    "regions = []\n",
    "for i in range(0, len(frag_tuples)):\n",
    "    regions.append({})\n",
    "    for threshold in thresh_list:\n",
    "        buf, sval = generate_buffer(spillage_list[i], threshold)\n",
    "        regions[i][threshold] = list(buf)"
   ]
  },
  {
   "cell_type": "markdown",
   "metadata": {},
   "source": [
    "## Build The BigDFT Input File"
   ]
  },
  {
   "cell_type": "markdown",
   "metadata": {},
   "source": [
    "Copy the basic input parameters. "
   ]
  },
  {
   "cell_type": "code",
   "execution_count": null,
   "metadata": {},
   "outputs": [],
   "source": [
    "from yaml import load, dump\n",
    "minimal_file = \"QMMMInput/input_minimal.yaml\"\n",
    "with open(minimal_file) as ifile:\n",
    "    inparam = load(ifile)\n",
    "with open(log_file) as ifile:\n",
    "    multipole_param = load(ifile)"
   ]
  },
  {
   "cell_type": "code",
   "execution_count": null,
   "metadata": {},
   "outputs": [],
   "source": [
    "psp_keys = [k for k in inparam.keys() if \"psppar\" in k]\n",
    "input_keys = [\"dft\", \"chess\", \"perf\", \"lin_general\", \n",
    "              \"lin_basis\", \"lin_kernel\", \"lin_basis_params\",\n",
    "              \"ig_occupation\", \"chess\", \"psolver\", \n",
    "              \"output\", \"kpt\", \"geopt\", \"md\", \"mix\", \n",
    "              \"sic\", \"tddft\", \"mode\"]\n",
    "input_keys.extend(psp_keys)\n",
    "\n",
    "parameters = {k: v for k, v in inparam.items() if k in input_keys}\n",
    "print(parameters.keys())"
   ]
  },
  {
   "cell_type": "markdown",
   "metadata": {},
   "source": [
    "Fill in the position values."
   ]
  },
  {
   "cell_type": "code",
   "execution_count": null,
   "metadata": {},
   "outputs": [],
   "source": [
    "def fill_positions(positions, target_atoms):\n",
    "    new_p_values = {}\n",
    "    new_p_values[\"cell\"] = positions[\"cell\"]\n",
    "    new_p_values[\"positions\"] = []\n",
    "    for t in target_atoms:\n",
    "        atom = positions[\"positions\"][t-1]\n",
    "        atom = {atom.keys()[1]: atom[atom.keys()[1]]}\n",
    "        new_p_values[\"positions\"].append(atom)\n",
    "    return new_p_values"
   ]
  },
  {
   "cell_type": "markdown",
   "metadata": {},
   "source": [
    "Copy only the multipole values that aren't part of the target/buffer region."
   ]
  },
  {
   "cell_type": "code",
   "execution_count": null,
   "metadata": {},
   "outputs": [],
   "source": [
    "def fill_multipoles(multipole_param, target_atoms):\n",
    "#     new_m_values = deepcopy()\n",
    "    new_m_values = deepcopy(multipole_param)\n",
    "    new_m_values[\"values\"] = []\n",
    "\n",
    "    for v in range(0, len(multipole_param[\"values\"])):\n",
    "        if v in target_atoms:\n",
    "            continue\n",
    "        new_m_values[\"values\"].append(multipole_param[\"values\"][v])\n",
    "    return new_m_values"
   ]
  },
  {
   "cell_type": "markdown",
   "metadata": {},
   "source": [
    "Main Loop over thresholds."
   ]
  },
  {
   "cell_type": "code",
   "execution_count": null,
   "metadata": {},
   "outputs": [],
   "source": [
    "from yaml import dump\n",
    "\n",
    "for thresh in thresh_list:\n",
    "    target_atoms = deepcopy(regions[0][thresh])\n",
    "    for atom in regions[2][thresh]:\n",
    "        if not atom in target_atoms:\n",
    "            target_atoms.append(atom)\n",
    "    new_p_values = fill_positions(positions, target_atoms)\n",
    "    new_m_values = fill_multipoles(multipole_param[\"Multipole coefficients\"], target_atoms)\n",
    "    parameters[\"dft\"][\"external_potential\"] = deepcopy(new_m_values)\n",
    "    parameters[\"posinp\"] = deepcopy(new_p_values)\n",
    "    \n",
    "    parameters[\"dft\"][\"external_potential\"] = deepcopy(new_m_values)\n",
    "    parameters[\"posinp\"] = deepcopy(new_p_values)\n",
    "\n",
    "    # Write To File\n",
    "    output = \"QMMMInput/input_qmmm-\"+str(thresh)+\".yaml\"\n",
    "    with open(output, \"w\") as ofile:\n",
    "        dump(parameters,ofile)\n",
    "        \n",
    "    # Write Frag File For Analysis\n",
    "    frag_output = \"QMMMInput/frag-\"+str(thresh)+\".yaml\"\n",
    "    with open(frag_output, \"w\") as ofile:\n",
    "        ofile.write(\"- \" + str(range(0,10)))\n",
    "        ofile.write(\"\\n\")\n",
    "        offset = len(regions[0][thresh])\n",
    "        ofile.write(\"- \" + str(range(offset,offset+10)))\n",
    "        ofile.write(\"\\n\")\n",
    "        \n",
    "    # Write out the XYZ file for visualization\n",
    "    xyz_file = \"QMMMInput/position-\"+str(thresh)+\".xyz\"\n",
    "    with open(xyz_file, \"w\") as ofile:\n",
    "        ofile.write(str(len(new_p_values[\"positions\"]))+\" \")\n",
    "        ofile.write(positions[\"units\"])\n",
    "        ofile.write(\"\\n\")\n",
    "        ofile.write(\"\".join([str(x)+\" \" for x in positions[\"cell\"]]))\n",
    "        ofile.write(\"\\n\")\n",
    "        for atom in new_p_values[\"positions\"]:\n",
    "            species = atom.keys()[0]\n",
    "            pos = \" \".join([str(x) for x in atom[species]])\n",
    "            ofile.write(species+\"\\t\"+pos)\n",
    "            ofile.write(\"\\n\")"
   ]
  },
  {
   "cell_type": "code",
   "execution_count": null,
   "metadata": {},
   "outputs": [],
   "source": []
  },
  {
   "cell_type": "code",
   "execution_count": null,
   "metadata": {},
   "outputs": [],
   "source": []
  }
 ],
 "metadata": {
  "kernelspec": {
   "display_name": "Python 2",
   "language": "python",
   "name": "python2"
  },
  "language_info": {
   "codemirror_mode": {
    "name": "ipython",
    "version": 2
   },
   "file_extension": ".py",
   "mimetype": "text/x-python",
   "name": "python",
   "nbconvert_exporter": "python",
   "pygments_lexer": "ipython2",
   "version": "2.7.12"
  }
 },
 "nbformat": 4,
 "nbformat_minor": 2
}
