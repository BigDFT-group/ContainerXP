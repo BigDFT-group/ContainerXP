{
 "cells": [
  {
   "cell_type": "markdown",
   "metadata": {},
   "source": [
    "# Ion Analysis\n",
    "In this notebook, we will do all of the analysis for the ions. We will start by computing the purity values associated with those atoms. We will then build new fragments around the ions that improve the purity. We will next develop a buffer region using the interaction spilling equations. Finally, we will set up a QM/MM type run on those atoms."
   ]
  },
  {
   "cell_type": "markdown",
   "metadata": {},
   "source": [
    "## Loading Of Data\n",
    "This basic data structure will store all the matrices required."
   ]
  },
  {
   "cell_type": "code",
   "execution_count": null,
   "metadata": {},
   "outputs": [],
   "source": [
    "from CheSS import Matrices as M\n",
    "\n",
    "class blockparam:\n",
    "    def __init__(self, folder):\n",
    "        '''Initialize the parameters based on files.\n",
    "        '''\n",
    "        self.density_file = folder+\"/density_kernel_sparse.mtx\"\n",
    "        self.hamiltonian_file = folder+\"/hamiltonian_sparse.mtx\"\n",
    "        self.overlap_file = folder+\"/overlap_sparse.mtx\"\n",
    "        self.metadata_file = folder+\"/sparsematrix_metadata.dat\"\n",
    "        \n",
    "    def build_lookup(self):\n",
    "        '''Build a lookup list that gives you the basis functions for each atom.\n",
    "        '''\n",
    "        alookup = M.get_atomic_lookup(self.metadata_file)\n",
    "        self.atom_to_basis = [[] for x in range(0, max(alookup)+1)]\n",
    "        for basis, atom in enumerate(alookup):\n",
    "            self.atom_to_basis[atom].append(basis)\n",
    "    \n",
    "    def read_matrices(self):\n",
    "        '''Read in the files, build the overlap inverse.\n",
    "        '''\n",
    "        from scipy.io import mmread\n",
    "        from scipy.sparse.linalg import inv\n",
    "        self.overlap = mmread(self.overlap_file)\n",
    "        self.density = mmread(self.density_file)\n",
    "        self.hamiltonian = mmread(self.hamiltonian_file)\n",
    "        self.KS = 0.5*self.density.dot(self.overlap).todense()\n",
    "        self.sinv = inv(self.overlap)\n",
    "        self.sinvxh = self.sinv.dot(self.hamiltonian)\n",
    "        self.sinvxh2 = self.sinvxh.dot(self.sinvxh)"
   ]
  },
  {
   "cell_type": "code",
   "execution_count": null,
   "metadata": {},
   "outputs": [],
   "source": [
    "data = blockparam(\"Matrices\")\n",
    "data.build_lookup()\n",
    "data.read_matrices()\n",
    "geom_file = \"Matrices/1L2Y.yaml\"\n",
    "image_size = (12,4)"
   ]
  },
  {
   "cell_type": "code",
   "execution_count": null,
   "metadata": {},
   "outputs": [],
   "source": [
    "import yaml\n",
    "purity_file = \"PurityData/Single/1L2Y.yaml\"\n",
    "with open(purity_file) as ifile:\n",
    "    bigdft_purity = yaml.load(ifile)"
   ]
  },
  {
   "cell_type": "markdown",
   "metadata": {},
   "source": [
    "Build the fragment data structure."
   ]
  },
  {
   "cell_type": "code",
   "execution_count": null,
   "metadata": {},
   "outputs": [],
   "source": [
    "from BigDFT import Fragments as F\n",
    "from yaml import load\n",
    "with open(geom_file) as ifile:\n",
    "    sys = load(ifile)\n",
    "    positions = sys[\"Reading positions\"].itervalues().next()\n",
    "fdict = F.CreateFragDict(positions)"
   ]
  },
  {
   "cell_type": "markdown",
   "metadata": {},
   "source": [
    "We also will load the charge values in from BigDFT"
   ]
  },
  {
   "cell_type": "code",
   "execution_count": null,
   "metadata": {},
   "outputs": [],
   "source": [
    "def lookup_fragment(fdict, atomlist):\n",
    "    for fragname in fdict:\n",
    "        for fragid, atoms in fdict[fragname].items():\n",
    "            if set(atomlist) == set(atoms):\n",
    "                return fragname, fragid"
   ]
  },
  {
   "cell_type": "code",
   "execution_count": null,
   "metadata": {},
   "outputs": [],
   "source": [
    "cdict = {}\n",
    "for frag in bigdft_purity[\"Fragment multipoles\"]:\n",
    "    neutral_charge = frag[\"Neutral fragment charge\"]\n",
    "    q0 = frag[\"q0\"]\n",
    "    net_charge = neutral_charge + q0[0]\n",
    "    atomlist = frag[\"Atom IDs\"]\n",
    "    fragname, fragid = lookup_fragment(fdict, atomlist)\n",
    "    if not fragname in cdict:\n",
    "        cdict[fragname] = {}\n",
    "    cdict[fragname][fragid] = net_charge"
   ]
  },
  {
   "cell_type": "markdown",
   "metadata": {},
   "source": [
    "I have also generated the bader charge dipole values for each atom."
   ]
  },
  {
   "cell_type": "code",
   "execution_count": null,
   "metadata": {},
   "outputs": [],
   "source": [
    "bader_file = \"bader.yaml\"\n",
    "with open(bader_file) as ifile:\n",
    "    bader_data = load(ifile)[\"positions\"]\n",
    "bader_values = []\n",
    "for atom in bader_data:\n",
    "    bader_values.append(float(atom[\"Charge net\"]))"
   ]
  },
  {
   "cell_type": "markdown",
   "metadata": {},
   "source": [
    "## Purity Analysis\n",
    "Now we will compute the purity values, and in particular we'll focus on the purity values of the Chlorine atoms. First a charge lookup data structure."
   ]
  },
  {
   "cell_type": "code",
   "execution_count": null,
   "metadata": {},
   "outputs": [],
   "source": [
    "from numpy import zeros\n",
    "electron_lookup = {'H' :1, 'He':2, \n",
    "                   'Li':1, 'Be':2, 'B' :3, 'C': 4, 'N':5, 'O':6, 'F' :7, 'Ne':8,\n",
    "                   'Na':1, 'Mg':2, 'Al':3, 'Si':4, 'P':5, 'S':6, 'Cl':7}\n",
    "natoms = len(positions[\"positions\"])\n",
    "charge = zeros((natoms))\n",
    "for i, p in enumerate(positions[\"positions\"]):\n",
    "    name = p.keys()[1]\n",
    "    charge[i] = electron_lookup[name]"
   ]
  },
  {
   "cell_type": "markdown",
   "metadata": {},
   "source": [
    "A list of fragments."
   ]
  },
  {
   "cell_type": "code",
   "execution_count": null,
   "metadata": {},
   "outputs": [],
   "source": [
    "frag_list = []\n",
    "for fname in fdict.keys():\n",
    "    for fid in fdict[fname].keys():\n",
    "        frag_list.append(fdict[fname][fid])"
   ]
  },
  {
   "cell_type": "markdown",
   "metadata": {},
   "source": [
    "The subroutine used to compute the purity values."
   ]
  },
  {
   "cell_type": "code",
   "execution_count": null,
   "metadata": {},
   "outputs": [],
   "source": [
    "def compute_purity(param, charge, frag):\n",
    "    from numpy import zeros\n",
    "    from numpy import trace\n",
    "    from scipy.sparse import csr_matrix\n",
    "    if (len(frag)) == 0:\n",
    "        return 0\n",
    "    indices = []\n",
    "    cv = 0\n",
    "    for atom in frag:\n",
    "        indices += param.atom_to_basis[atom-1]\n",
    "        cv += charge[atom-1]\n",
    "\n",
    "    submat = param.KS[indices,:]\n",
    "    submat = submat[:,indices]\n",
    "    \n",
    "    return 2*trace(submat.dot(submat) - submat)/cv"
   ]
  },
  {
   "cell_type": "markdown",
   "metadata": {},
   "source": [
    "Compute and plot."
   ]
  },
  {
   "cell_type": "code",
   "execution_count": null,
   "metadata": {},
   "outputs": [],
   "source": [
    "purity_values = []\n",
    "for frag in frag_list:\n",
    "    purity_values.append(compute_purity(data, charge, frag))"
   ]
  },
  {
   "cell_type": "code",
   "execution_count": null,
   "metadata": {},
   "outputs": [],
   "source": [
    "from matplotlib import pyplot as plt\n",
    "\n",
    "fig, ax = plt.subplots(1, 1, figsize=(12,4))\n",
    "ax.plot(sorted(purity_values), 'x')\n",
    "ax.set_title(\"Purity Values\")\n",
    "ax.set_xlabel(\"Fragment ID\")"
   ]
  },
  {
   "cell_type": "markdown",
   "metadata": {},
   "source": [
    "### The Chlorine Purity Values\n",
    "Now we will do that same plot but show where the Chlorine atoms sit on that scale."
   ]
  },
  {
   "cell_type": "code",
   "execution_count": null,
   "metadata": {},
   "outputs": [],
   "source": [
    "target_list = []\n",
    "for fname in fdict.keys():\n",
    "    if not (fname == \"CLA\" or fname == \"SOD\"):\n",
    "        continue\n",
    "    for fid in fdict[fname].keys():\n",
    "        target_list.append(fdict[fname][fid])"
   ]
  },
  {
   "cell_type": "code",
   "execution_count": null,
   "metadata": {},
   "outputs": [],
   "source": [
    "target_purity = []\n",
    "for frag in target_list:\n",
    "    target_purity.append(compute_purity(data, charge, frag))"
   ]
  },
  {
   "cell_type": "code",
   "execution_count": null,
   "metadata": {},
   "outputs": [],
   "source": [
    "from matplotlib import pyplot as plt\n",
    "\n",
    "# find chlorine values in the sorted list\n",
    "spv = sorted(purity_values)\n",
    "x_cl = []\n",
    "for k in range(0, len(target_list)):\n",
    "    for i in range(0, len(purity_values)):\n",
    "        if target_purity[k] == spv[i]:\n",
    "            x_cl.append(i)\n",
    "            break\n",
    "\n",
    "fig, ax = plt.subplots(1, 1, figsize=(12,4))\n",
    "ax.plot(sorted(purity_values), 'x', markersize=10, label=\"All Values\")\n",
    "ax.plot(x_cl, target_purity, '.', markersize=25, label=\"Na/Cl\")\n",
    "ax.set_xlim(-2,len(purity_values))\n",
    "ax.set_title(\"Purity Values\")\n",
    "ax.set_xlabel(\"Fragment ID\")\n",
    "plt.legend(loc=\"best\")"
   ]
  },
  {
   "cell_type": "markdown",
   "metadata": {},
   "source": [
    "## Refragmentation of Chlorine\n",
    "Next we will try to add some neighboring water molecules to the Chlorine atoms to improve the purity values. First, a subroutine to get nearest neighbors."
   ]
  },
  {
   "cell_type": "code",
   "execution_count": null,
   "metadata": {},
   "outputs": [],
   "source": [
    "def GetNearest(fragtuple, sysfile, threshold=None, number=None):\n",
    "    import numpy as np\n",
    "    sys = F.System(posinp_dict=sysfile)\n",
    "    for f in sys.fragments:\n",
    "        if f.id == F.SetFragId(*fragtuple):\n",
    "            our_frag = f\n",
    "            break\n",
    "    distance_array =[F.distance(our_frag, f, cell=sysfile[\"cell\"]) for f in sys.fragments]\n",
    "    ipiv = np.argsort(distance_array)\n",
    "    if number:\n",
    "        shell = ipiv[:number]\n",
    "    else:\n",
    "        shell = np.where(np.array(distance_array) < threshold)[0]\n",
    "    shellid = [sys.fragments[s].id for s in shell]\n",
    "    return shellid"
   ]
  },
  {
   "cell_type": "markdown",
   "metadata": {},
   "source": [
    "Fragment tuples."
   ]
  },
  {
   "cell_type": "code",
   "execution_count": null,
   "metadata": {},
   "outputs": [],
   "source": [
    "frag_tuples = []\n",
    "for fname in fdict.keys():\n",
    "    if not (fname == \"CLA\" or fname == \"SOD\"):\n",
    "        continue\n",
    "    for fid in fdict[fname].keys():\n",
    "        frag_tuples.append((fname, fid))"
   ]
  },
  {
   "cell_type": "markdown",
   "metadata": {},
   "source": [
    "Next we will compute the purity values for the Chlorine+Water fragments."
   ]
  },
  {
   "cell_type": "code",
   "execution_count": null,
   "metadata": {},
   "outputs": [],
   "source": [
    "merged_purity = []\n",
    "merged_charge = []\n",
    "merged_bader = []\n",
    "for cl in frag_tuples:\n",
    "    merged_purity.append([])\n",
    "    merged_charge.append([])\n",
    "    merged_bader.append([])\n",
    "    for num_neighbors in range(0, 10):\n",
    "        neighbor_list = GetNearest(cl, positions, number=num_neighbors+1)\n",
    "        tlist = []\n",
    "        total_charge = 0\n",
    "        for n in neighbor_list:\n",
    "            fname, fid = n.split(\":\")\n",
    "            tlist.extend(fdict[fname][int(fid)])\n",
    "            total_charge += cdict[fname][int(fid)]\n",
    "        merged_purity[-1].append(compute_purity(data, charge, tlist))\n",
    "        merged_charge[-1].append(total_charge)\n",
    "        total_bader = 0\n",
    "        for atom in tlist:\n",
    "            total_bader += bader_values[atom-1]\n",
    "        merged_bader[-1].append(total_bader)"
   ]
  },
  {
   "cell_type": "code",
   "execution_count": null,
   "metadata": {},
   "outputs": [],
   "source": [
    "fig, ax = plt.subplots(2, 1, figsize=(6,6))\n",
    "\n",
    "marker = [\"o--\", \"d--\", \"h--\"]\n",
    "marker2 = [\"*--\", \"s--\", \"8--\"]\n",
    "colors= ['g', 'b', 'black']\n",
    "\n",
    "for i in range(len(frag_tuples)-1, -1, -1):\n",
    "    name = frag_tuples[i][0]+str(frag_tuples[i][1])\n",
    "    ax[0].plot(merged_purity[i], marker[i], label=\"Purity \"+name, color=colors[i], markersize=8)\n",
    "    ax[1].plot(merged_charge[i], marker[i], label=\"Mulliken \"+name, color=colors[i],  markersize=8)\n",
    "#     ax[1].plot(merged_bader[i], marker2[i], label=\"Bader \"+name, color=colors[i],  markersize=8)\n",
    "ax[0].set_xlim(-0.5, len(merged_purity[0]))\n",
    "ax[1].set_xlim(-0.5, len(merged_purity[0]))\n",
    "ax[1].set_ylim(-1.1, 1.1)\n",
    "ax[1].set_xlabel(\"Added Water Molecules\",fontsize=12)\n",
    "ax[0].set_ylabel(\"Purity Values\",fontsize=12)\n",
    "ax[1].set_ylabel(\"Net Charge\",fontsize=12)\n",
    "ax[0].legend(bbox_to_anchor=(1.45,1), ncol=1)\n",
    "ax[1].legend(bbox_to_anchor=(1.5,1), ncol=1)\n",
    "plt.savefig(\"Pictures/ChlorineRefrag.eps\", bbox_inches='tight')"
   ]
  },
  {
   "cell_type": "code",
   "execution_count": null,
   "metadata": {},
   "outputs": [],
   "source": []
  }
 ],
 "metadata": {
  "kernelspec": {
   "display_name": "Python 2",
   "language": "python",
   "name": "python2"
  },
  "language_info": {
   "codemirror_mode": {
    "name": "ipython",
    "version": 2
   },
   "file_extension": ".py",
   "mimetype": "text/x-python",
   "name": "python",
   "nbconvert_exporter": "python",
   "pygments_lexer": "ipython2",
   "version": "2.7.12"
  }
 },
 "nbformat": 4,
 "nbformat_minor": 2
}
