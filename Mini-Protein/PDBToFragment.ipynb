{
 "cells": [
  {
   "cell_type": "markdown",
   "metadata": {},
   "source": [
    "# Computes Fragments from the PDB Fragment File"
   ]
  },
  {
   "cell_type": "markdown",
   "metadata": {},
   "source": [
    "First select which data set you would like to generate."
   ]
  },
  {
   "cell_type": "code",
   "execution_count": null,
   "metadata": {},
   "outputs": [],
   "source": [
    "import ipywidgets as widgets\n",
    "from glob import glob\n",
    "from os.path import basename, splitext\n",
    "\n",
    "datasets = [basename(x) for x in glob(\"Geometry/*\")]\n",
    "datadrop = widgets.Dropdown(\n",
    "    options=datasets,\n",
    "    description='Data Set:',\n",
    ")\n",
    "display(datadrop)"
   ]
  },
  {
   "cell_type": "markdown",
   "metadata": {},
   "source": [
    "## Define the Input Files"
   ]
  },
  {
   "cell_type": "code",
   "execution_count": null,
   "metadata": {},
   "outputs": [],
   "source": [
    "namelist = []\n",
    "dataset = datadrop.value\n",
    "for f in glob(\"Geometry/\"+dataset+\"/*.pdb\"):\n",
    "    namelist.append(splitext(basename(f))[0])"
   ]
  },
  {
   "cell_type": "markdown",
   "metadata": {},
   "source": [
    "## Read the input"
   ]
  },
  {
   "cell_type": "code",
   "execution_count": null,
   "metadata": {},
   "outputs": [],
   "source": [
    "from yaml import load\n",
    "frag_indices = {}\n",
    "\n",
    "fdicts = {}\n",
    "for f in namelist:\n",
    "    fdicts[f] = {}\n",
    "    with open(\"Geometry/\"+dataset+\"/\"+f+\".pdb\", 'r') as ifile:\n",
    "        for line in ifile:\n",
    "            split = line.split()\n",
    "            if split[0] != \"ATOM\":\n",
    "                continue\n",
    "            atom = int(split[1])\n",
    "            fname = split[3]\n",
    "            fid = int(split[4])\n",
    "            if fname not in fdicts[f]:\n",
    "                fdicts[f][fname] = {}\n",
    "            if fid not in fdicts[f][fname]:\n",
    "                fdicts[f][fname][fid] = []\n",
    "            fdicts[f][fname][fid].append(atom)"
   ]
  },
  {
   "cell_type": "markdown",
   "metadata": {},
   "source": [
    "## Convert To A List of Lists"
   ]
  },
  {
   "cell_type": "code",
   "execution_count": null,
   "metadata": {},
   "outputs": [],
   "source": [
    "frag_lists = {}\n",
    "for f in fdicts:\n",
    "    new_list = []\n",
    "    slist = []\n",
    "    for key, value in fdicts[f].items():\n",
    "        for key2, value2 in fdicts[f][key].items():\n",
    "            new_list.append(value2)\n",
    "            slist.append(int(key2))\n",
    "    frag_lists[f] = [x for _,x in sorted(zip(slist,new_list))]\n",
    "#     frag_lists[f] = new_list"
   ]
  },
  {
   "cell_type": "markdown",
   "metadata": {},
   "source": [
    "## Write To Yaml File"
   ]
  },
  {
   "cell_type": "code",
   "execution_count": null,
   "metadata": {},
   "outputs": [],
   "source": [
    "import os\n",
    "from os.path import exists\n",
    "from os import makedirs\n",
    "\n",
    "for f in namelist:\n",
    "    with open(\"Geometry/\"+dataset+\"/\"+f+\"-frag.yaml\", 'w') as ofile:\n",
    "        for value in frag_lists[f]:\n",
    "            ofile.write(\"- \"+str(value)+\"\\n\")"
   ]
  },
  {
   "cell_type": "code",
   "execution_count": null,
   "metadata": {},
   "outputs": [],
   "source": []
  }
 ],
 "metadata": {
  "kernelspec": {
   "display_name": "Python 2",
   "language": "python",
   "name": "python2"
  },
  "language_info": {
   "codemirror_mode": {
    "name": "ipython",
    "version": 2
   },
   "file_extension": ".py",
   "mimetype": "text/x-python",
   "name": "python",
   "nbconvert_exporter": "python",
   "pygments_lexer": "ipython2",
   "version": "2.7.12"
  }
 },
 "nbformat": 4,
 "nbformat_minor": 2
}
