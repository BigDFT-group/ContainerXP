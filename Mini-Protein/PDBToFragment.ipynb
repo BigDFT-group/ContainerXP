{
 "cells": [
  {
   "cell_type": "markdown",
   "metadata": {},
   "source": [
    "# Computes Fragments from the PDB Fragment File"
   ]
  },
  {
   "cell_type": "markdown",
   "metadata": {},
   "source": [
    "First select which data set you would like to generate."
   ]
  },
  {
   "cell_type": "code",
   "execution_count": 1,
   "metadata": {},
   "outputs": [
    {
     "data": {
      "application/vnd.jupyter.widget-view+json": {
       "model_id": "48020a495caa4c4ca286835d1fedd59c",
       "version_major": 2,
       "version_minor": 0
      },
      "text/plain": [
       "Dropdown(description='Data Set:', options=('TimeStep', 'Size'), value='TimeStep')"
      ]
     },
     "metadata": {},
     "output_type": "display_data"
    }
   ],
   "source": [
    "import ipywidgets as widgets\n",
    "from glob import glob\n",
    "from os.path import basename, splitext\n",
    "\n",
    "datasets = [basename(x) for x in glob(\"Geometry/*\")]\n",
    "w = widgets.Dropdown(\n",
    "    options=datasets,\n",
    "    description='Data Set:',\n",
    "    disabled=False,\n",
    ")\n",
    "display(w)"
   ]
  },
  {
   "cell_type": "markdown",
   "metadata": {},
   "source": [
    "## Define the Input Files"
   ]
  },
  {
   "cell_type": "code",
   "execution_count": 11,
   "metadata": {},
   "outputs": [],
   "source": [
    "namelist = []\n",
    "dataset = w.value\n",
    "for f in glob(\"Geometry/\"+dataset+\"/*.pdb\"):\n",
    "    namelist.append(splitext(basename(f))[0])"
   ]
  },
  {
   "cell_type": "markdown",
   "metadata": {},
   "source": [
    "## Read the input"
   ]
  },
  {
   "cell_type": "code",
   "execution_count": 12,
   "metadata": {},
   "outputs": [],
   "source": [
    "frag_indices = {}\n",
    "for f in namelist:\n",
    "    frag_indices[f] = []\n",
    "    with open(\"Geometry/\"+dataset+\"/\"+f+\".pdb\", 'r') as ifile:\n",
    "        for line in ifile:\n",
    "            split = line.split()\n",
    "            if len(split) > 1 and split[0] == \"ATOM\":\n",
    "                frag_indices[f].append(split[3]+\"-\"+split[4])"
   ]
  },
  {
   "cell_type": "markdown",
   "metadata": {},
   "source": [
    "## Build the dictionary"
   ]
  },
  {
   "cell_type": "code",
   "execution_count": 13,
   "metadata": {},
   "outputs": [],
   "source": [
    "frag_dict = {}\n",
    "for f in namelist:\n",
    "    frag_dict[f] = {}\n",
    "    for i in range(0,len(frag_indices[f])):\n",
    "        key = frag_indices[f][i]\n",
    "        if key in frag_dict[f]:\n",
    "            frag_dict[f][key].append(i+1)\n",
    "        else:\n",
    "            frag_dict[f][key] = [i+1]"
   ]
  },
  {
   "cell_type": "markdown",
   "metadata": {},
   "source": [
    "## Write To Yaml File"
   ]
  },
  {
   "cell_type": "code",
   "execution_count": 14,
   "metadata": {},
   "outputs": [],
   "source": [
    "from future.utils import viewitems\n",
    "for f in namelist:\n",
    "    with open(\"FragmentInput/\"+dataset+\"/\"+f+\"-frag.yaml\", 'w') as ofile:\n",
    "        for key, value in viewitems(frag_dict[f]):\n",
    "            ofile.write(\"- \"+str(value)+\"\\n\")"
   ]
  },
  {
   "cell_type": "code",
   "execution_count": null,
   "metadata": {},
   "outputs": [],
   "source": []
  }
 ],
 "metadata": {
  "kernelspec": {
   "display_name": "Python 3",
   "language": "python",
   "name": "python3"
  },
  "language_info": {
   "codemirror_mode": {
    "name": "ipython",
    "version": 3
   },
   "file_extension": ".py",
   "mimetype": "text/x-python",
   "name": "python",
   "nbconvert_exporter": "python",
   "pygments_lexer": "ipython3",
   "version": "3.6.5"
  }
 },
 "nbformat": 4,
 "nbformat_minor": 2
}
