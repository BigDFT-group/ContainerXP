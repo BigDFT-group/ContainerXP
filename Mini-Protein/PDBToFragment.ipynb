{
 "cells": [
  {
   "cell_type": "markdown",
   "metadata": {},
   "source": [
    "# Computes Fragments from the PDB Fragment File"
   ]
  },
  {
   "cell_type": "markdown",
   "metadata": {},
   "source": [
    "First select which data set you would like to generate."
   ]
  },
  {
   "cell_type": "code",
   "execution_count": 76,
   "metadata": {},
   "outputs": [
    {
     "data": {
      "application/vnd.jupyter.widget-view+json": {
       "model_id": "534def84055b41cf8d6088aad2eb4f6c",
       "version_major": 2,
       "version_minor": 0
      },
      "text/plain": [
       "Dropdown(description=u'Data Set:', options=('TimeStep', 'Single', 'Size'), value='TimeStep')"
      ]
     },
     "metadata": {},
     "output_type": "display_data"
    }
   ],
   "source": [
    "import ipywidgets as widgets\n",
    "from glob import glob\n",
    "from os.path import basename, splitext\n",
    "\n",
    "datasets = [basename(x) for x in glob(\"Geometry/*\")]\n",
    "datadrop = widgets.Dropdown(\n",
    "    options=datasets,\n",
    "    description='Data Set:',\n",
    ")\n",
    "display(datadrop)"
   ]
  },
  {
   "cell_type": "markdown",
   "metadata": {},
   "source": [
    "## Define the Input Files"
   ]
  },
  {
   "cell_type": "code",
   "execution_count": 77,
   "metadata": {},
   "outputs": [],
   "source": [
    "namelist = []\n",
    "dataset = datadrop.value\n",
    "for f in glob(\"Geometry/\"+dataset+\"/*.pdb\"):\n",
    "    namelist.append(splitext(basename(f))[0])"
   ]
  },
  {
   "cell_type": "markdown",
   "metadata": {},
   "source": [
    "## Use the Babel Program To Convert PDB To Yaml"
   ]
  },
  {
   "cell_type": "code",
   "execution_count": 78,
   "metadata": {},
   "outputs": [
    {
     "data": {
      "application/vnd.jupyter.widget-view+json": {
       "model_id": "f46f627994a44bf38828036fb1c16a6d",
       "version_major": 2,
       "version_minor": 0
      },
      "text/plain": [
       "IntProgress(value=0, description=u'Loading:', max=1)"
      ]
     },
     "metadata": {},
     "output_type": "display_data"
    }
   ],
   "source": [
    "import subprocess\n",
    "from BigDFT import Fragments\n",
    "bab_wrap = Fragments.__file__.split(\"install\")[0] + \"bigdft/tests/libs/wrappers/babel\"\n",
    "\n",
    "prog = widgets.IntProgress(\n",
    "    max=len(namelist),\n",
    "    description='Loading:',\n",
    ")\n",
    "display(prog)\n",
    "\n",
    "for f in namelist:\n",
    "    infile = \"Geometry/\"+dataset+\"/\"+f+\".pdb\"\n",
    "    outfile = infile.replace(\".pdb\", \".yaml\")\n",
    "    with open(outfile, \"w\") as ofile:\n",
    "        subprocess.call([bab_wrap, \"-i\", infile], stdout=ofile)\n",
    "    prog.value += 1\n",
    "prog.bar_style=\"success\"\n",
    "prog.description=\"Finished\""
   ]
  },
  {
   "cell_type": "markdown",
   "metadata": {},
   "source": [
    "## Read the input"
   ]
  },
  {
   "cell_type": "code",
   "execution_count": 79,
   "metadata": {},
   "outputs": [],
   "source": [
    "from yaml import load\n",
    "frag_indices = {}\n",
    "\n",
    "for f in namelist:\n",
    "    frag_indices[f] = []\n",
    "    with open(\"Geometry/\"+dataset+\"/\"+f+\".yaml\", 'r') as ifile:\n",
    "        values = load(ifile)\n",
    "        positions = values[\"Reading positions\"].itervalues().next()\n",
    "        frag_indices[f] = Fragments.CreateFragDict(positions)"
   ]
  },
  {
   "cell_type": "markdown",
   "metadata": {},
   "source": [
    "## Convert To A List of Lists"
   ]
  },
  {
   "cell_type": "code",
   "execution_count": 80,
   "metadata": {},
   "outputs": [],
   "source": [
    "frag_lists = {}\n",
    "for f in namelist:\n",
    "    new_list = []\n",
    "    for key, value in frag_indices[f].items():\n",
    "        for key2, value2 in frag_indices[f][key].items():\n",
    "            new_list.append(value2)\n",
    "    frag_lists[f] = new_list"
   ]
  },
  {
   "cell_type": "markdown",
   "metadata": {},
   "source": [
    "## Write To Yaml File"
   ]
  },
  {
   "cell_type": "code",
   "execution_count": 81,
   "metadata": {},
   "outputs": [],
   "source": [
    "import os\n",
    "from os.path import exists\n",
    "from os import makedirs\n",
    "\n",
    "if not os.path.exists(\"FragmentInput/\"+dataset):\n",
    "    os.makedirs(\"FragmentInput/\"+dataset)\n",
    "\n",
    "for f in namelist:\n",
    "    with open(\"FragmentInput/\"+dataset+\"/\"+f+\"-frag.yaml\", 'w') as ofile:\n",
    "        for value in frag_lists[f]:\n",
    "            ofile.write(\"- \"+str(value)+\"\\n\")"
   ]
  },
  {
   "cell_type": "code",
   "execution_count": null,
   "metadata": {},
   "outputs": [],
   "source": []
  }
 ],
 "metadata": {
  "kernelspec": {
   "display_name": "Python 2",
   "language": "python",
   "name": "python2"
  },
  "language_info": {
   "codemirror_mode": {
    "name": "ipython",
    "version": 2
   },
   "file_extension": ".py",
   "mimetype": "text/x-python",
   "name": "python",
   "nbconvert_exporter": "python",
   "pygments_lexer": "ipython2",
   "version": "2.7.12"
  }
 },
 "nbformat": 4,
 "nbformat_minor": 2
}
