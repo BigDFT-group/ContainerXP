{
 "cells": [
  {
   "cell_type": "markdown",
   "metadata": {},
   "source": [
    "# Energy Analysis"
   ]
  },
  {
   "cell_type": "markdown",
   "metadata": {},
   "source": [
    "In this bonus notebook, we will explore the locality of a system for different energy envelopes.\n",
    "\n",
    "Given a set of eigenvectors of the Hamiltonian, we can compute a corresponding density matrix by computing an outer product between those eigenvectors and those same eigenvectors transposed. For example, consider the matrices of the mini protein system."
   ]
  },
  {
   "cell_type": "code",
   "execution_count": null,
   "metadata": {},
   "outputs": [],
   "source": [
    "from scipy.io import mmread\n",
    "hfile = \"Matrices/hamiltonian_sparse.mtx\"\n",
    "ofile = \"Matrices/overlap_sparse.mtx\"\n",
    "H = mmread(hfile).todense()\n",
    "O = mmread(ofile).todense()"
   ]
  },
  {
   "cell_type": "markdown",
   "metadata": {},
   "source": [
    "We'll work in the Lowdin basis."
   ]
  },
  {
   "cell_type": "code",
   "execution_count": null,
   "metadata": {},
   "outputs": [],
   "source": [
    "from scipy.linalg import eigh\n",
    "from numpy import sqrt, diag\n",
    "w, v= eigh(O)\n",
    "for i in range(0, len(w)):\n",
    "    w[i] = 1.0/sqrt(w[i])\n",
    "isq = v.dot(diag(w)).dot(v.T)"
   ]
  },
  {
   "cell_type": "code",
   "execution_count": null,
   "metadata": {},
   "outputs": [],
   "source": [
    "WH = isq.dot(H.dot(isq))"
   ]
  },
  {
   "cell_type": "markdown",
   "metadata": {},
   "source": [
    "Now compute the eigenvalues of the matrix."
   ]
  },
  {
   "cell_type": "code",
   "execution_count": null,
   "metadata": {},
   "outputs": [],
   "source": [
    "from scipy.linalg import eigh\n",
    "w, v = eigh(WH)"
   ]
  },
  {
   "cell_type": "markdown",
   "metadata": {},
   "source": [
    "And finally the density matrix"
   ]
  },
  {
   "cell_type": "code",
   "execution_count": null,
   "metadata": {},
   "outputs": [],
   "source": [
    "nel = 2612\n",
    "D = v[:,:nel].dot(v[:,:nel].T)\n",
    "print(D.shape)"
   ]
  },
  {
   "cell_type": "markdown",
   "metadata": {},
   "source": [
    "We know that this matrix is sparse. In fact, let's compute the sparsity."
   ]
  },
  {
   "cell_type": "code",
   "execution_count": null,
   "metadata": {},
   "outputs": [],
   "source": [
    "def compute_size(mat, thresh=1e-5):\n",
    "    c = 0\n",
    "    for j in range(0, mat.shape[0]):\n",
    "        for i in range(0, mat.shape[1]):\n",
    "            if abs(mat[i,j]) > thresh:\n",
    "                c += 1\n",
    "    return (1.0*c)/(mat.shape[0]*mat.shape[1])"
   ]
  },
  {
   "cell_type": "code",
   "execution_count": null,
   "metadata": {},
   "outputs": [],
   "source": [
    "print(\"Density Sparsity:\", compute_size(D))"
   ]
  },
  {
   "cell_type": "markdown",
   "metadata": {},
   "source": [
    "When we computed the density matrix, we choose to use all of the occupied orbitals. But in fact we could have choosen a different subset of orbitals, and computed a matrix of the exact same shape. What other subsets might be interesting? First, let's look at the spectrum:"
   ]
  },
  {
   "cell_type": "code",
   "execution_count": null,
   "metadata": {},
   "outputs": [],
   "source": [
    "from matplotlib import pyplot as plt\n",
    "fig, ax = plt.subplots(1,1,figsize=(8,4))\n",
    "plt.plot(w, '.', markersize=2)"
   ]
  },
  {
   "cell_type": "markdown",
   "metadata": {},
   "source": [
    "Interestingly enough, there are many gaps in this spectrum, not just the band gap. Let's define those sets:"
   ]
  },
  {
   "cell_type": "code",
   "execution_count": null,
   "metadata": {},
   "outputs": [],
   "source": [
    "w_sets =[]\n",
    "w_sets.append(list(range(0,nel)))\n",
    "start = 0\n",
    "# Just to a little past the gap because we can't trust BigDFT's basis functions beyond that\n",
    "for i in range(1, nel+100):\n",
    "    if w[i] - w[i-1] > 0.02:\n",
    "        w_sets.append(list(range(start,i)))\n",
    "        print(start,i)\n",
    "        start = i"
   ]
  },
  {
   "cell_type": "markdown",
   "metadata": {},
   "source": [
    "Let's also add an arbitrary subset as well for contrast"
   ]
  },
  {
   "cell_type": "code",
   "execution_count": null,
   "metadata": {},
   "outputs": [],
   "source": [
    "w_sets.append([500, 800])"
   ]
  },
  {
   "cell_type": "markdown",
   "metadata": {},
   "source": [
    "Lets look at the sparsity of those portions"
   ]
  },
  {
   "cell_type": "code",
   "execution_count": null,
   "metadata": {},
   "outputs": [],
   "source": [
    "D_list = []\n",
    "for s in w_sets:\n",
    "    Ds = v[:,s].dot(v[:,s].T)\n",
    "    D_list.append(Ds)\n",
    "    print(\"Density Sparsity: (\", s[0], s[-1], \")\", compute_size(Ds))"
   ]
  },
  {
   "cell_type": "markdown",
   "metadata": {},
   "source": [
    "These sub density matrices are sparse, indeed in some cases they are even more sparse than the real density matrix. This means we can analyze them with the same purity indicator technique we have been using for the full density matrix."
   ]
  },
  {
   "cell_type": "code",
   "execution_count": null,
   "metadata": {},
   "outputs": [],
   "source": [
    "geom_file = \"Matrices/1L2Y.yaml\"\n",
    "from BigDFT import Fragments as F\n",
    "from yaml import load\n",
    "with open(geom_file) as ifile:\n",
    "    sys = load(ifile)\n",
    "    positions = sys[\"Reading positions\"].itervalues().next()\n",
    "fdict = F.CreateFragDict(positions)"
   ]
  },
  {
   "cell_type": "markdown",
   "metadata": {},
   "source": [
    "I'll bring in the infastructure for computing the purity values."
   ]
  },
  {
   "cell_type": "code",
   "execution_count": null,
   "metadata": {},
   "outputs": [],
   "source": [
    "from numpy import zeros\n",
    "electron_lookup = {'H' :1, 'He':2, \n",
    "                   'Li':1, 'Be':2, 'B' :3, 'C': 4, 'N':5, 'O':6, 'F' :7, 'Ne':8,\n",
    "                   'Na':1, 'Mg':2, 'Al':3, 'Si':4, 'P':5, 'S':6, 'Cl':7}\n",
    "natoms = len(positions[\"positions\"])\n",
    "charge = zeros((natoms))\n",
    "for i, p in enumerate(positions[\"positions\"]):\n",
    "    name = p.keys()[1]\n",
    "    charge[i] = electron_lookup[name]"
   ]
  },
  {
   "cell_type": "code",
   "execution_count": null,
   "metadata": {},
   "outputs": [],
   "source": [
    "from copy import deepcopy\n",
    "frag_lists = {}\n",
    "lval = []\n",
    "for fname in fdict.keys():\n",
    "    if fname != \"WAT\":\n",
    "        continue\n",
    "    for fid in fdict[fname].keys():\n",
    "        lval.append(fdict[fname][fid])\n",
    "    frag_lists[\"WAT\"] = deepcopy(lval)\n",
    "lval = []\n",
    "for fname in fdict.keys():\n",
    "    if fname != \"SOD\":\n",
    "        continue\n",
    "    for fid in fdict[fname].keys():\n",
    "        lval.append(fdict[fname][fid])\n",
    "    frag_lists[\"SOD\"] = deepcopy(lval)\n",
    "lval = []\n",
    "for fname in fdict.keys():\n",
    "    if fname != \"CLA\":\n",
    "        continue\n",
    "    for fid in fdict[fname].keys():\n",
    "        lval.append(fdict[fname][fid])\n",
    "    frag_lists[\"CLA\"] = deepcopy(lval)\n",
    "lval = []\n",
    "for fname in fdict.keys():\n",
    "    if fname == \"WAT\" or fname == \"SOD\" or fname == \"CLA\":\n",
    "        continue\n",
    "    for fid in fdict[fname].keys():\n",
    "        lval.append(fdict[fname][fid])\n",
    "    frag_lists[\"PRO\"] = deepcopy(lval)"
   ]
  },
  {
   "cell_type": "code",
   "execution_count": null,
   "metadata": {},
   "outputs": [],
   "source": [
    "def compute_purity(Den, charge, frag):\n",
    "    from numpy import zeros\n",
    "    from numpy import trace\n",
    "    from scipy.sparse import csr_matrix\n",
    "    if (len(frag)) == 0:\n",
    "        return 0\n",
    "    indices = []\n",
    "    cv = 0\n",
    "    for atom in frag:\n",
    "        indices += atom_to_basis[atom-1]\n",
    "        cv += charge[atom-1]\n",
    "\n",
    "    submat = Den[indices,:]\n",
    "    submat = submat[:,indices]\n",
    "    \n",
    "    return 2*trace(submat.dot(submat) - submat)/cv"
   ]
  },
  {
   "cell_type": "code",
   "execution_count": null,
   "metadata": {},
   "outputs": [],
   "source": [
    "from CheSS import Matrices as M\n",
    "metadata_file = \"Matrices/sparsematrix_metadata.dat\"\n",
    "alookup = M.get_atomic_lookup(metadata_file)\n",
    "atom_to_basis = [[] for x in range(0, max(alookup)+1)]\n",
    "for basis, atom in enumerate(alookup):\n",
    "    atom_to_basis[atom].append(basis)"
   ]
  },
  {
   "cell_type": "markdown",
   "metadata": {},
   "source": [
    "And compute for every matrix."
   ]
  },
  {
   "cell_type": "code",
   "execution_count": null,
   "metadata": {},
   "outputs": [],
   "source": [
    "from copy import deepcopy\n",
    "energy_purity = {}\n",
    "\n",
    "for frag_type in [\"WAT\", \"SOD\", \"CLA\", \"PRO\"]:\n",
    "    purity_values = {}\n",
    "    for s, den in zip(w_sets, D_list):\n",
    "        pl = []\n",
    "        for frag in frag_lists[frag_type]:\n",
    "            pl.append(compute_purity(den, charge, frag))\n",
    "            name = str(s[0])+\":\"+str(s[-1])\n",
    "        purity_values[name] = deepcopy(pl)\n",
    "    energy_purity[frag_type] = purity_values"
   ]
  },
  {
   "cell_type": "code",
   "execution_count": null,
   "metadata": {},
   "outputs": [],
   "source": [
    "markers = [\".\", 'x', '<', '+']\n",
    "marker_dict = {}\n",
    "for m, k in zip(markers, energy_purity[\"WAT\"].keys()):\n",
    "    marker_dict[k] = m\n",
    "\n",
    "fig, ax = plt.subplots(len([\"WAT\", \"SOD\", \"CLA\", \"PRO\"]), 1, figsize=(12,12))\n",
    "ax[0].set_title(\"Purity Values\")\n",
    "ax[-1].set_xlabel(\"Fragment ID\")\n",
    "\n",
    "for i, frag_type in enumerate([\"WAT\", \"SOD\", \"CLA\", \"PRO\"]):\n",
    "    for name, val in energy_purity[frag_type].items():\n",
    "        ax[i].plot(val, 'x', markersize=12, label=name)\n",
    "    ax[i].set_ylabel(frag_type)\n",
    "    first = energy_purity[frag_type].keys()[0]\n",
    "    ax[i].set_xlim(-1,len(energy_purity[frag_type][first]))\n",
    "#     ax[i].set_ylim([-0.1, 0.01])\n",
    "ax[0].legend(loc=\"best\", bbox_to_anchor=(1, 1))"
   ]
  },
  {
   "cell_type": "code",
   "execution_count": null,
   "metadata": {},
   "outputs": [],
   "source": []
  }
 ],
 "metadata": {
  "kernelspec": {
   "display_name": "Python 2",
   "language": "python",
   "name": "python2"
  },
  "language_info": {
   "codemirror_mode": {
    "name": "ipython",
    "version": 2
   },
   "file_extension": ".py",
   "mimetype": "text/x-python",
   "name": "python",
   "nbconvert_exporter": "python",
   "pygments_lexer": "ipython2",
   "version": "2.7.12"
  }
 },
 "nbformat": 4,
 "nbformat_minor": 2
}
