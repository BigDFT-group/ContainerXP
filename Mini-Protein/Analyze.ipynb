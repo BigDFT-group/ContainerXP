{
 "cells": [
  {
   "cell_type": "markdown",
   "metadata": {},
   "source": [
    "# Purity Value Analysis"
   ]
  },
  {
   "cell_type": "markdown",
   "metadata": {},
   "source": [
    "First select which data set you would like to analyze."
   ]
  },
  {
   "cell_type": "code",
   "execution_count": 15,
   "metadata": {},
   "outputs": [
    {
     "data": {
      "application/vnd.jupyter.widget-view+json": {
       "model_id": "62ae2c44df1f4f5c84dead37d662bcd0",
       "version_major": 2,
       "version_minor": 0
      },
      "text/plain": [
       "Dropdown(description=u'Data Set:', options=('TimeStep', 'NewFragments', 'Single', 'Size'), value='TimeStep')"
      ]
     },
     "metadata": {},
     "output_type": "display_data"
    }
   ],
   "source": [
    "import ipywidgets as widgets\n",
    "from glob import glob\n",
    "from os.path import basename, splitext\n",
    "\n",
    "datasets = [basename(x) for x in glob(\"PurityData/*\")]\n",
    "w = widgets.Dropdown(\n",
    "    options=datasets,\n",
    "    description='Data Set:',\n",
    ")\n",
    "display(w)"
   ]
  },
  {
   "cell_type": "markdown",
   "metadata": {},
   "source": [
    "## Extract the Purity Values"
   ]
  },
  {
   "cell_type": "code",
   "execution_count": 24,
   "metadata": {},
   "outputs": [],
   "source": [
    "dataset = w.value\n",
    "filelist = []\n",
    "for f in glob(\"PurityData/\"+dataset+\"/*.yaml\"):\n",
    "    filelist.append(splitext(basename(f))[0])"
   ]
  },
  {
   "cell_type": "code",
   "execution_count": 25,
   "metadata": {},
   "outputs": [
    {
     "data": {
      "application/vnd.jupyter.widget-view+json": {
       "model_id": "747705bb3a6642888ad5870abdea4653",
       "version_major": 2,
       "version_minor": 0
      },
      "text/plain": [
       "IntProgress(value=0, description=u'Loading:', max=1)"
      ]
     },
     "metadata": {},
     "output_type": "display_data"
    }
   ],
   "source": [
    "from yaml import load\n",
    "from numpy import array\n",
    "\n",
    "prog = widgets.IntProgress(\n",
    "    max=len(filelist),\n",
    "    description='Loading:',\n",
    ")\n",
    "display(prog)\n",
    "\n",
    "key_values = []\n",
    "purity_values = []\n",
    "\n",
    "for f in filelist:\n",
    "    logfile = f+\".yaml\"\n",
    "    key_values.append(logfile)\n",
    "    val = []\n",
    "    with open(\"PurityData/\"+dataset+\"/\"+logfile) as ifile:\n",
    "        values = load(ifile)\n",
    "        for frag in values[\"Fragment multipoles\"]:\n",
    "            purity = frag[\"Purity indicator\"]\n",
    "            val.append(purity)\n",
    "    purity_values.append(array(val))\n",
    "    prog.value += 1\n",
    "prog.bar_style=\"success\"\n",
    "prog.description=\"Finished\""
   ]
  },
  {
   "cell_type": "markdown",
   "metadata": {},
   "source": [
    "## Analysis"
   ]
  },
  {
   "cell_type": "markdown",
   "metadata": {},
   "source": [
    "First we'll plot a sorted list of purity values for each of the different data sets."
   ]
  },
  {
   "cell_type": "code",
   "execution_count": 26,
   "metadata": {},
   "outputs": [
    {
     "data": {
      "image/png": "[encoded data removed]",
      "text/plain": [
       "<matplotlib.figure.Figure at 0x7f19a57e7e90>"
      ]
     },
     "metadata": {},
     "output_type": "display_data"
    }
   ],
   "source": [
    "from matplotlib import pyplot as plt\n",
    "fig, ax = plt.subplots(1,1)\n",
    "ax.set_xlabel(\"Fragment\")\n",
    "ax.set_ylabel(\"Purity\")\n",
    "\n",
    "plt.title(\"Purity Values for Data Set: \"+ w.value)\n",
    "\n",
    "for i in range(0, len(filelist)):\n",
    "    plt.plot(sorted(abs(purity_values[i])), '.', label=key_values[i])\n",
    "    \n",
    "plt.legend(loc=\"best\")\n",
    "plt.margins(x=0.1, y=0.1)\n",
    "plt.show()"
   ]
  },
  {
   "cell_type": "markdown",
   "metadata": {},
   "source": [
    "Next, we'll break down the data into the protein, the water molecules, and the ions in solution."
   ]
  },
  {
   "cell_type": "code",
   "execution_count": 27,
   "metadata": {},
   "outputs": [
    {
     "data": {
      "application/vnd.jupyter.widget-view+json": {
       "model_id": "9db064516fad4db0b17b7d6dcc5eb6e4",
       "version_major": 2,
       "version_minor": 0
      },
      "text/plain": [
       "IntProgress(value=0, description=u'Loading:', max=1)"
      ]
     },
     "metadata": {},
     "output_type": "display_data"
    }
   ],
   "source": [
    "protein_purity_values = []\n",
    "na_purity_values = []\n",
    "cl_purity_values = []\n",
    "h2o_purity_values = []\n",
    "\n",
    "prog2 = widgets.IntProgress(\n",
    "    max=len(filelist),\n",
    "    description='Loading:',\n",
    ")\n",
    "display(prog2)\n",
    "\n",
    "for i in range(0, len(filelist)):\n",
    "    logfile = filelist[i]+\".yaml\"\n",
    "    valh2o = []\n",
    "    valprotein = []\n",
    "    valcl = []\n",
    "    valna = []\n",
    "    with open(\"PurityData/\"+dataset+\"/\"+logfile) as ifile:\n",
    "        values = load(ifile)\n",
    "        for frag in values[\"Fragment multipoles\"]:\n",
    "            name = frag[\"Atom names\"]\n",
    "            purity = frag[\"Purity indicator\"]\n",
    "            if 'Na' in name:\n",
    "                valna.append(purity)\n",
    "            elif 'Cl' in name:\n",
    "                valcl.append(purity)\n",
    "            elif 'N' in name or 'C' in name:\n",
    "                valprotein.append(purity)\n",
    "            else:\n",
    "                valh2o.append(purity)\n",
    "    h2o_purity_values.append(array(valh2o))\n",
    "    protein_purity_values.append(array(valprotein))\n",
    "    cl_purity_values.append(array(valcl))\n",
    "    na_purity_values.append(array(valna))\n",
    "    prog2.value += 1\n",
    "    \n",
    "prog2.bar_style=\"success\"\n",
    "prog2.description=\"Finished\""
   ]
  },
  {
   "cell_type": "markdown",
   "metadata": {},
   "source": [
    "And now plot that data side by side."
   ]
  },
  {
   "cell_type": "code",
   "execution_count": 28,
   "metadata": {},
   "outputs": [
    {
     "data": {
      "image/png": "[encoded data removed]",
      "text/plain": [
       "<matplotlib.figure.Figure at 0x7f19ca8fadd0>"
      ]
     },
     "metadata": {},
     "output_type": "display_data"
    }
   ],
   "source": [
    "from numpy import nditer, abs\n",
    "fig, ax= plt.subplots(2,2, figsize=(8,6), sharex=False, sharey=True)\n",
    "\n",
    "ymin = min([min(x) for x in [abs(x) for x in purity_values]])/1.1\n",
    "ymax = max([max(x) for x in [abs(x) for x in purity_values]])*1.1\n",
    "\n",
    "for axis in ax.reshape(-1):\n",
    "    axis.set_ylabel(\"Purity Value\")\n",
    "    axis.set_ylim(ymin, ymax)\n",
    "    axis.margins(x=0.1,y=0.1)\n",
    "ax[0,0].set_xlabel(\"Protein Fragment\")\n",
    "for i in range(0, len(filelist)):\n",
    "    ax[0,0].plot(sorted(abs(protein_purity_values[i])), '.', label=key_values[i])\n",
    "ax[0,1].set_xlabel(\"H2O Fragment\")\n",
    "for i in range(0, len(filelist)):\n",
    "    ax[0,1].plot(sorted(abs(h2o_purity_values[i])), '.', label=key_values[i])\n",
    "ax[1,0].set_xlabel(\"Na Fragment\")\n",
    "for i in range(0, len(filelist)):\n",
    "    ax[1,0].plot(sorted(abs(na_purity_values[i])), '.', label=key_values[i])\n",
    "ax[1,1].set_xlabel(\"Cl Fragment\")\n",
    "for i in range(0, len(filelist)):\n",
    "    ax[1,1].plot(sorted(abs(cl_purity_values[i])), '.', label=key_values[i])\n",
    "\n",
    "ax[0,1].legend(bbox_to_anchor=(1.6,1))\n",
    "fig.tight_layout(rect=[0, 0.03, 1, 0.95])\n",
    "fig.suptitle(\"Purity Values for Data Set: \"+ w.value)\n",
    "\n",
    "plt.show()"
   ]
  },
  {
   "cell_type": "code",
   "execution_count": null,
   "metadata": {},
   "outputs": [],
   "source": []
  }
 ],
 "metadata": {
  "kernelspec": {
   "display_name": "Python 2",
   "language": "python",
   "name": "python2"
  },
  "language_info": {
   "codemirror_mode": {
    "name": "ipython",
    "version": 2
   },
   "file_extension": ".py",
   "mimetype": "text/x-python",
   "name": "python",
   "nbconvert_exporter": "python",
   "pygments_lexer": "ipython2",
   "version": "2.7.12"
  }
 },
 "nbformat": 4,
 "nbformat_minor": 2
}
