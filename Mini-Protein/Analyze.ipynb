{
 "cells": [
  {
   "cell_type": "markdown",
   "metadata": {},
   "source": [
    "# Purity Value Analysis"
   ]
  },
  {
   "cell_type": "markdown",
   "metadata": {},
   "source": [
    "First select which data set you would like to analyze."
   ]
  },
  {
   "cell_type": "code",
   "execution_count": null,
   "metadata": {},
   "outputs": [],
   "source": [
    "import ipywidgets as widgets\n",
    "from glob import glob\n",
    "from os.path import basename, splitext\n",
    "\n",
    "datasets = [basename(x) for x in glob(\"PurityData/*\")]\n",
    "w = widgets.Dropdown(\n",
    "    options=datasets,\n",
    "    description='Data Set:',\n",
    ")\n",
    "display(w)"
   ]
  },
  {
   "cell_type": "markdown",
   "metadata": {},
   "source": [
    "## Extract the Purity Values"
   ]
  },
  {
   "cell_type": "code",
   "execution_count": null,
   "metadata": {},
   "outputs": [],
   "source": [
    "dataset = w.value\n",
    "filelist = []\n",
    "for f in glob(\"PurityData/\"+dataset+\"/*.yaml\"):\n",
    "    if \"labels.yaml\" in f:\n",
    "        continue\n",
    "    filelist.append(splitext(basename(f))[0])\n",
    "filelist = sorted(filelist)\n",
    "\n",
    "from yaml import load\n",
    "with open(\"PurityData/\"+dataset+\"/labels.yaml\") as ifile:\n",
    "    values = load(ifile)\n",
    "    label_list = [str(x) for x in values[\"data\"]]\n",
    "plot_title = values[\"title\"]"
   ]
  },
  {
   "cell_type": "code",
   "execution_count": null,
   "metadata": {},
   "outputs": [],
   "source": [
    "\n",
    "from numpy import array\n",
    "\n",
    "prog = widgets.IntProgress(\n",
    "    max=len(filelist),\n",
    "    description='Loading:',\n",
    ")\n",
    "display(prog)\n",
    "\n",
    "key_values = []\n",
    "purity_values = []\n",
    "\n",
    "for f in filelist:\n",
    "    logfile = f+\".yaml\"\n",
    "    key_values.append(logfile)\n",
    "    val = []\n",
    "    with open(\"PurityData/\"+dataset+\"/\"+logfile) as ifile:\n",
    "        values = load(ifile)\n",
    "        for frag in values[\"Fragment multipoles\"]:\n",
    "            purity = frag[\"Purity indicator\"]\n",
    "            val.append(purity)\n",
    "    purity_values.append(array(val))\n",
    "    prog.value += 1\n",
    "prog.bar_style=\"success\"\n",
    "prog.description=\"Finished\""
   ]
  },
  {
   "cell_type": "markdown",
   "metadata": {},
   "source": [
    "## Analysis"
   ]
  },
  {
   "cell_type": "markdown",
   "metadata": {},
   "source": [
    "First we'll plot a sorted list of purity values for each of the different data sets."
   ]
  },
  {
   "cell_type": "code",
   "execution_count": null,
   "metadata": {},
   "outputs": [],
   "source": [
    "from matplotlib import pyplot as plt\n",
    "fig, ax = plt.subplots(1,1)\n",
    "ax.set_xlabel(\"Fragment\")\n",
    "ax.set_ylabel(\"Purity\")\n",
    "\n",
    "plt.title(\"Purity Values for Data Set: \"+ w.value)\n",
    "\n",
    "for i in range(0, len(filelist)):\n",
    "    plt.plot(sorted(abs(purity_values[i])), '.', label=key_values[i])\n",
    "    \n",
    "plt.legend(loc=\"best\")\n",
    "plt.margins(x=0.1, y=0.1)\n",
    "plt.show()"
   ]
  },
  {
   "cell_type": "markdown",
   "metadata": {},
   "source": [
    "Next, we'll break down the data into the protein, the water molecules, and the ions in solution."
   ]
  },
  {
   "cell_type": "code",
   "execution_count": null,
   "metadata": {},
   "outputs": [],
   "source": [
    "protein_purity_values = []\n",
    "na_purity_values = []\n",
    "cl_purity_values = []\n",
    "h2o_purity_values = []\n",
    "\n",
    "prog2 = widgets.IntProgress(\n",
    "    max=len(filelist),\n",
    "    description='Loading:',\n",
    ")\n",
    "display(prog2)\n",
    "\n",
    "for i in range(0, len(filelist)):\n",
    "    logfile = filelist[i]+\".yaml\"\n",
    "    valh2o = []\n",
    "    valprotein = []\n",
    "    valcl = []\n",
    "    valna = []\n",
    "    with open(\"PurityData/\"+dataset+\"/\"+logfile) as ifile:\n",
    "        values = load(ifile)\n",
    "        for frag in values[\"Fragment multipoles\"]:\n",
    "            name = frag[\"Atom names\"]\n",
    "            purity = frag[\"Purity indicator\"]\n",
    "            if 'Na' in name:\n",
    "                valna.append(purity)\n",
    "            elif 'Cl' in name:\n",
    "                valcl.append(purity)\n",
    "            elif 'N' in name or 'C' in name:\n",
    "                valprotein.append(purity)\n",
    "            else:\n",
    "                valh2o.append(purity)\n",
    "    h2o_purity_values.append(array(valh2o))\n",
    "    protein_purity_values.append(array(valprotein))\n",
    "    cl_purity_values.append(array(valcl))\n",
    "    na_purity_values.append(array(valna))\n",
    "    prog2.value += 1\n",
    "    \n",
    "prog2.bar_style=\"success\"\n",
    "prog2.description=\"Finished\""
   ]
  },
  {
   "cell_type": "markdown",
   "metadata": {},
   "source": [
    "And now plot that data side by side."
   ]
  },
  {
   "cell_type": "code",
   "execution_count": null,
   "metadata": {},
   "outputs": [],
   "source": [
    "import matplotlib.ticker as plticker\n",
    "from numpy import nditer, abs\n",
    "fig, ax= plt.subplots(2,2, figsize=(8,6), sharex=False, sharey=True)\n",
    "loc = plticker.MultipleLocator(base=1.0)\n",
    "\n",
    "ymin = min([min(x) for x in [abs(x) for x in purity_values]])/1.1\n",
    "ymax = max([max(x) for x in [abs(x) for x in purity_values]])*1.1\n",
    "\n",
    "for axis in ax.reshape(-1):\n",
    "    axis.set_ylim(ymin, ymax)\n",
    "    axis.margins(x=0.1,y=0.1)\n",
    "ax[0,0].set_ylabel(\"Purity Value\", fontsize=10)\n",
    "ax[1,0].set_ylabel(\"Purity Value\", fontsize=10)\n",
    "ax[0,0].set_xlabel(\"Protein Fragment\", fontsize=10)\n",
    "for i in range(0, len(filelist)):\n",
    "    ax[0,0].plot(abs(protein_purity_values[i]), 'x', label=label_list[i])\n",
    "ax[0,1].set_xlabel(\"H2O Fragment\", fontsize=10)\n",
    "for i in range(0, len(filelist)):\n",
    "    ax[0,1].plot(abs(h2o_purity_values[i]), 'x', label=label_list[i])\n",
    "ax[1,0].set_xlabel(\"Na Fragment\", fontsize=10)\n",
    "for i in range(0, len(filelist)):\n",
    "    ax[1,0].plot(abs(na_purity_values[i]), 'x', label=label_list[i])\n",
    "ax[1,1].set_xlabel(\"Cl Fragment\", fontsize=10)\n",
    "for i in range(0, len(filelist)):\n",
    "    ax[1,1].plot(abs(cl_purity_values[i]), 'x', label=label_list[i])\n",
    "ax[1,1].xaxis.set_major_locator(loc)\n",
    "ax[1,0].xaxis.set_major_locator(loc)\n",
    "\n",
    "handles, labels = ax[1,1].get_legend_handles_labels()\n",
    "fig.legend(handles, labels, loc='upper center',ncol=int(len(filelist)/1))      \n",
    "    \n",
    "fig.tight_layout(rect=[0, 0.03, 1, 0.95])\n",
    "\n",
    "fig.savefig(\"Pictures/\"+dataset+\".eps\")\n",
    "\n",
    "plt.show()"
   ]
  },
  {
   "cell_type": "code",
   "execution_count": null,
   "metadata": {},
   "outputs": [],
   "source": [
    "import matplotlib.ticker as plticker\n",
    "from numpy import nditer, abs\n",
    "fig, ax= plt.subplots(1,4, figsize=(12,4), sharex=False, sharey=True,\n",
    "                      gridspec_kw = {'width_ratios':[2, 3, 1.0, 1.5]})\n",
    "loc = plticker.MultipleLocator(base=1.0)\n",
    "\n",
    "ymin = min([min(x) for x in [abs(x) for x in purity_values]])/1.1\n",
    "ymax = max([max(x) for x in [abs(x) for x in purity_values]])*1.1\n",
    "\n",
    "for axis in ax.reshape(-1):\n",
    "    axis.set_ylim(ymin, ymax)\n",
    "    axis.margins(x=0.1,y=0.1)\n",
    "ax[0].set_ylabel(\"Purity Value\", fontsize=14)\n",
    "ax[0].set_ylabel(\"Purity Value\", fontsize=14)\n",
    "ax[0].set_xlabel(\"Protein Residues\", fontsize=14)\n",
    "from numpy import arange\n",
    "filelist = filelist[0:6]\n",
    "s = ['.', ',', 'o', 'v', '8', 's', 'p', '*', 'x', 'd']\n",
    "col = [\"black\",'b', 'g', 'r', 'c', 'm', 'y', 'k', 'b', 'g']\n",
    "\n",
    "for i in range(0, len(filelist)):\n",
    "    ax[0].plot(abs(protein_purity_values[i]), 'x', label=label_list[i], c=col[i])\n",
    "ax[1].set_xlabel(\"Water Molecules\", fontsize=14)\n",
    "for i in range(0, len(filelist)):\n",
    "    ax[1].plot(abs(h2o_purity_values[i]), 'x', label=label_list[i], c=col[i])\n",
    "ax[2].set_xlabel(\"Na Ions\", fontsize=14)\n",
    "for i in range(0, len(filelist)):\n",
    "    ax[2].plot(abs(na_purity_values[i]), 'x', label=label_list[i], c=col[i])\n",
    "ax[3].set_xlabel(\"Cl Ions\", fontsize=14)\n",
    "for i in range(0, len(filelist)):\n",
    "    ax[3].plot(abs(cl_purity_values[i]), 'x', label=label_list[i], c=col[i])\n",
    "ax[3].xaxis.set_major_locator(loc)\n",
    "ax[2].xaxis.set_major_locator(loc)\n",
    "\n",
    "handles, labels = ax[1].get_legend_handles_labels()\n",
    "fig.legend(handles, labels, loc='upper center',ncol=int(len(filelist)/1), title=plot_title)   \n",
    "\n",
    "plt.subplots_adjust(wspace=0.05, hspace=0)\n",
    "fig.savefig(\"Pictures/\"+dataset+\".eps\", bbox_inches=\"tight\")\n",
    "\n",
    "plt.show()"
   ]
  }
 ],
 "metadata": {
  "kernelspec": {
   "display_name": "Python 2",
   "language": "python",
   "name": "python2"
  },
  "language_info": {
   "codemirror_mode": {
    "name": "ipython",
    "version": 2
   },
   "file_extension": ".py",
   "mimetype": "text/x-python",
   "name": "python",
   "nbconvert_exporter": "python",
   "pygments_lexer": "ipython2",
   "version": "2.7.12"
  }
 },
 "nbformat": 4,
 "nbformat_minor": 2
}
