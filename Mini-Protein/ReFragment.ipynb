{
 "cells": [
  {
   "cell_type": "markdown",
   "metadata": {},
   "source": [
    "# Fragment Maker\n",
    "A python notebook for generating new fragmentations of systems."
   ]
  },
  {
   "cell_type": "markdown",
   "metadata": {},
   "source": [
    "## Setup"
   ]
  },
  {
   "cell_type": "markdown",
   "metadata": {},
   "source": [
    "Begin setting up the data."
   ]
  },
  {
   "cell_type": "code",
   "execution_count": 11,
   "metadata": {},
   "outputs": [
    {
     "data": {
      "text/plain": [
       "<module 'BigDFT.Fragments' from '/bigdft-sdk/Build/install/lib/python2.7/site-packages/BigDFT/Fragments.pyc'>"
      ]
     },
     "execution_count": 11,
     "metadata": {},
     "output_type": "execute_result"
    }
   ],
   "source": [
    "from BigDFT import Fragments\n",
    "reload(Fragments)"
   ]
  },
  {
   "cell_type": "markdown",
   "metadata": {},
   "source": [
    "### Select Which Dataset and Fragment Cutoff"
   ]
  },
  {
   "cell_type": "code",
   "execution_count": 12,
   "metadata": {},
   "outputs": [
    {
     "data": {
      "application/vnd.jupyter.widget-view+json": {
       "model_id": "97c3a7ba49904a1f89d141c80faf6171",
       "version_major": 2,
       "version_minor": 0
      },
      "text/plain": [
       "Dropdown(description=u'Data Set:', options=('TimeStep', 'Single', 'Size'), value='TimeStep')"
      ]
     },
     "metadata": {},
     "output_type": "display_data"
    },
    {
     "data": {
      "application/vnd.jupyter.widget-view+json": {
       "model_id": "8cf39043e4314ab4bee82f92792358cf",
       "version_major": 2,
       "version_minor": 0
      },
      "text/plain": [
       "RHJvcGRvd24oZGVzY3JpcHRpb249dSdQdXJpdHkgQ3V0b2ZmOicsIGluZGV4PTQsIG9wdGlvbnM9KDAuMDEsIDAuMDIwMDAwMDAwMDAwMDAwMDA0LCAwLjAzMDAwMDAwMDAwMDAwMDAwNiwgMC7igKY=\n"
      ]
     },
     "metadata": {},
     "output_type": "display_data"
    },
    {
     "data": {
      "application/vnd.jupyter.widget-view+json": {
       "model_id": "a72abd362d014370b3b8188a5a1d18de",
       "version_major": 2,
       "version_minor": 0
      },
      "text/plain": [
       "RHJvcGRvd24oZGVzY3JpcHRpb249dSdOdW1iZXIgb2YgTmVpZ2hib3JzOicsIG9wdGlvbnM9KDAsIDEsIDIsIDMsIDQsIDUsIDYsIDcsIDgsIDkpLCBzdHlsZT1EZXNjcmlwdGlvblN0eWxlKGTigKY=\n"
      ]
     },
     "metadata": {},
     "output_type": "display_data"
    }
   ],
   "source": [
    "import ipywidgets as widgets\n",
    "from glob import glob\n",
    "from os.path import basename, splitext\n",
    "from numpy import linspace\n",
    "\n",
    "datasets = [basename(x) for x in glob(\"Geometry/*\")]\n",
    "w = widgets.Dropdown(\n",
    "    options=datasets,\n",
    "    description='Data Set:',\n",
    ")\n",
    "display(w)\n",
    "\n",
    "space = linspace(0.01,0.1,10)\n",
    "cutoffdrop = widgets.Dropdown(\n",
    "    options=space,\n",
    "    value=space[int(len(space)/2)-1],\n",
    "    description='Purity Cutoff:',\n",
    ")\n",
    "\n",
    "display(cutoffdrop)\n",
    "\n",
    "style = {'description_width': 'initial'}\n",
    "mergedrop = widgets.Dropdown(\n",
    "    options=list(range(0,10)),\n",
    "    description=\"Number of Neighbors:\",\n",
    "    style=style)\n",
    "\n",
    "display(mergedrop)"
   ]
  },
  {
   "cell_type": "code",
   "execution_count": 13,
   "metadata": {},
   "outputs": [
    {
     "data": {
      "application/javascript": [
       "IPython.notebook.execute_cells_below()"
      ],
      "text/plain": [
       "<IPython.core.display.Javascript object>"
      ]
     },
     "metadata": {},
     "output_type": "display_data"
    },
    {
     "data": {
      "application/vnd.jupyter.widget-view+json": {
       "model_id": "bbeee5b56d6247209786f63efb3cb1b3",
       "version_major": 2,
       "version_minor": 0
      },
      "text/plain": [
       "Button(description=u'Run Parameters', style=ButtonStyle())"
      ]
     },
     "metadata": {},
     "output_type": "display_data"
    },
    {
     "data": {
      "application/vnd.jupyter.widget-view+json": {
       "model_id": "53ac5d76750f4a399bc81be486ea6458",
       "version_major": 2,
       "version_minor": 0
      },
      "text/plain": [
       "Button(description=u'Run Parameters', style=ButtonStyle())"
      ]
     },
     "metadata": {},
     "output_type": "display_data"
    },
    {
     "data": {
      "application/vnd.jupyter.widget-view+json": {
       "model_id": "2fe93865dfcd48e2af9ff221ed7bf32c",
       "version_major": 2,
       "version_minor": 0
      },
      "text/plain": [
       "Button(description=u'Run Parameters', style=ButtonStyle())"
      ]
     },
     "metadata": {},
     "output_type": "display_data"
    }
   ],
   "source": [
    "from IPython.display import Javascript\n",
    "def run_all(ev):\n",
    "    display(Javascript('IPython.notebook.execute_cells_below()'))\n",
    "\n",
    "button = widgets.Button(description=\"Run Parameters\")\n",
    "button.on_click(run_all)\n",
    "display(button)"
   ]
  },
  {
   "cell_type": "markdown",
   "metadata": {},
   "source": [
    "### Load All The Data"
   ]
  },
  {
   "cell_type": "code",
   "execution_count": 14,
   "metadata": {},
   "outputs": [],
   "source": [
    "# Basic Parameters\n",
    "namelist = []\n",
    "dataset = w.value\n",
    "cutoff = cutoffdrop.value\n",
    "neighbors = mergedrop.value\n",
    "for f in glob(\"Geometry/\"+dataset+\"/*.pdb\"):\n",
    "    namelist.append(splitext(basename(f))[0])"
   ]
  },
  {
   "cell_type": "markdown",
   "metadata": {},
   "source": [
    "This has to load both the the purity values and the fragment information into matching types of dictionaries."
   ]
  },
  {
   "cell_type": "code",
   "execution_count": 15,
   "metadata": {},
   "outputs": [
    {
     "data": {
      "application/vnd.jupyter.widget-view+json": {
       "model_id": "a165cfa623ac4c9c9c2e3ea03f489d12",
       "version_major": 2,
       "version_minor": 0
      },
      "text/plain": [
       "IntProgress(value=0, description=u'Loading:', max=18)"
      ]
     },
     "metadata": {},
     "output_type": "display_data"
    }
   ],
   "source": [
    "from yaml import load\n",
    "\n",
    "prog = widgets.IntProgress(\n",
    "    max=2*len(namelist),\n",
    "    description='Loading:',\n",
    ")\n",
    "display(prog)\n",
    "\n",
    "def lookup_fragment(fdict, atomlist):\n",
    "    for fragname in fdict:\n",
    "        for fragid, atoms in fdict[fragname].items():\n",
    "            if set(atomlist) == set(atoms):\n",
    "                return fragname, fragid\n",
    "\n",
    "# A dictionary of systems for each file.\n",
    "purity_dicts = {}\n",
    "frag_dicts = {}\n",
    "total_frags = {}\n",
    "total_atoms = {}\n",
    "\n",
    "for f in namelist:\n",
    "    # Load The Geometry\n",
    "    with open(\"Geometry/\"+dataset+\"/\"+f+\".yaml\") as ifile:\n",
    "        values = load(ifile)\n",
    "        positions = values[\"Reading positions\"].itervalues().next()\n",
    "        frag_dicts[f] = positions\n",
    "        \n",
    "    prog.value += 1\n",
    "    # Load The Purity Values\n",
    "    val = {}\n",
    "    total_frag = 0\n",
    "    total_atom = 0\n",
    "    dictionary = Fragments.CreateFragDict(positions)\n",
    "    with open(\"PurityData/\"+dataset+\"/\"+f+\".yaml\") as ifile:\n",
    "        values = load(ifile)\n",
    "        for frag in values[\"Fragment multipoles\"]:\n",
    "            purity = frag[\"Purity indicator\"]\n",
    "            atomlist = frag[\"Atom IDs\"]\n",
    "            fragname, fragid = lookup_fragment(dictionary, atomlist)\n",
    "            if not fragname in val:\n",
    "                val[fragname] = {}\n",
    "            val[fragname][fragid] = purity\n",
    "            total_frag += 1\n",
    "            total_atom += len(atomlist)\n",
    "    total_frags[f] = total_frag\n",
    "    total_atoms[f] = total_atom\n",
    "    purity_dicts[f] = val\n",
    "    prog.value += 1\n",
    "    \n",
    "prog.bar_style=\"success\"\n",
    "prog.description=\"Finished\""
   ]
  },
  {
   "cell_type": "markdown",
   "metadata": {},
   "source": [
    "## Generate New List"
   ]
  },
  {
   "cell_type": "markdown",
   "metadata": {},
   "source": [
    "First we'll find which fragments have too high of a purity value, get their nearest neighbor, and add it to a merge list."
   ]
  },
  {
   "cell_type": "code",
   "execution_count": 16,
   "metadata": {},
   "outputs": [],
   "source": [
    "merge_targets = {}\n",
    "for f in namelist:\n",
    "    vals = []\n",
    "    for fragname in purity_dicts[f]:\n",
    "        for fragid, purity in purity_dicts[f][fragname].items():\n",
    "            if abs(purity) > cutoff:\n",
    "                vals.append({\"Fragid\":(fragname, fragid), \"Value\":purity})\n",
    "    merge_targets[f] = vals"
   ]
  },
  {
   "cell_type": "markdown",
   "metadata": {},
   "source": [
    "Code to get the nearest neighbors."
   ]
  },
  {
   "cell_type": "code",
   "execution_count": 17,
   "metadata": {},
   "outputs": [],
   "source": [
    "def GetNearest(fragtuple, sysfile, threshold=None, number=None):\n",
    "    import numpy as np\n",
    "    sys = FGetNearestragments.System(posinp_dict=sysfile)\n",
    "    for f in sys.fragments:\n",
    "        if f.id == Fragments.SetFragId(*fragtuple):\n",
    "            our_frag = f\n",
    "            break\n",
    "    distance_array =[Fragments.distance(our_frag, f, cell=sysfile[\"cell\"]) for f in sys.fragments]\n",
    "    ipiv = np.argsort(distance_array)\n",
    "    if number:\n",
    "        shell = ipiv[:number]\n",
    "    else:\n",
    "        shell = np.where(np.array(distance_array) < threshold)[0]\n",
    "    shellid = [sys.fragments[s].id for s in shell]\n",
    "    return shellid"
   ]
  },
  {
   "cell_type": "markdown",
   "metadata": {},
   "source": [
    "Merge everything together"
   ]
  },
  {
   "cell_type": "code",
   "execution_count": 18,
   "metadata": {},
   "outputs": [],
   "source": [
    "def CreateMergeList(neighborid):\n",
    "    return [Fragments.GetFragTuple(f) for f in neighborid]\n",
    "\n",
    "merged_dicts = {}\n",
    "for f in namelist:\n",
    "    base_id = total_frags[f]\n",
    "    counter = 0\n",
    "    merged_dicts[f] = {}\n",
    "    fdict = Fragments.CreateFragDict(frag_dicts[f])\n",
    "    for target in merge_targets[f]:\n",
    "        merged = CreateMergeList(GetNearest(target[\"Fragid\"], frag_dicts[f], number=neighbors+1))\n",
    "#         merged = CreateMergeList(GetNearest(target[\"Fragid\"], frag_dicts[f], threshold=neighbors))\n",
    "        # Add A New One\n",
    "        newname = ''.join([x[0] for x in merged])\n",
    "        newid = base_id + counter\n",
    "        newindices = []\n",
    "        for fragname, fragid in merged:\n",
    "            newindices.extend(fdict[fragname][fragid])\n",
    "        if not newname in merged_dicts[f]:\n",
    "            merged_dicts[f][newname] = {}\n",
    "        merged_dicts[f][newname][newid] = newindices\n",
    "        counter = counter + 1"
   ]
  },
  {
   "cell_type": "markdown",
   "metadata": {},
   "source": [
    "## Write To File"
   ]
  },
  {
   "cell_type": "markdown",
   "metadata": {},
   "source": [
    "Convert to a list of lists."
   ]
  },
  {
   "cell_type": "code",
   "execution_count": 19,
   "metadata": {},
   "outputs": [],
   "source": [
    "frag_lists = {}\n",
    "for f in namelist:\n",
    "    new_list = []\n",
    "    fdict = merged_dicts[f]\n",
    "    for key, value in fdict.items():\n",
    "        for key2, value2 in fdict[key].items():\n",
    "            new_list.append(value2)\n",
    "    frag_lists[f] = new_list\n"
   ]
  },
  {
   "cell_type": "markdown",
   "metadata": {},
   "source": [
    "Write."
   ]
  },
  {
   "cell_type": "code",
   "execution_count": 20,
   "metadata": {},
   "outputs": [],
   "source": [
    "import os\n",
    "from os.path import exists\n",
    "from os import makedirs\n",
    "\n",
    "if not os.path.exists(\"NewFragment/\"+dataset):\n",
    "    os.makedirs(\"NewFragment/\"+dataset)\n",
    "\n",
    "merge_file = \"NewFragment/\"+dataset+\"/\"+f+\"-\"+str(cutoff)+\"-\"+str(neighbors)+\".yaml\"\n",
    "    \n",
    "for f in namelist:\n",
    "    with open(merge_file, 'w') as ofile:\n",
    "        for value in frag_lists[f]:\n",
    "            ofile.write(\"- \"+str(value)+\"\\n\")"
   ]
  },
  {
   "cell_type": "code",
   "execution_count": null,
   "metadata": {},
   "outputs": [],
   "source": []
  }
 ],
 "metadata": {
  "kernelspec": {
   "display_name": "Python 2",
   "language": "python",
   "name": "python2"
  },
  "language_info": {
   "codemirror_mode": {
    "name": "ipython",
    "version": 2
   },
   "file_extension": ".py",
   "mimetype": "text/x-python",
   "name": "python",
   "nbconvert_exporter": "python",
   "pygments_lexer": "ipython2",
   "version": "2.7.12"
  }
 },
 "nbformat": 4,
 "nbformat_minor": 2
}
