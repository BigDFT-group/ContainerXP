{
 "cells": [
  {
   "cell_type": "markdown",
   "metadata": {},
   "source": [
    "# This notebook tracks the convergence of the multipoles of the protein\n",
    "First load all the files."
   ]
  },
  {
   "cell_type": "code",
   "execution_count": null,
   "metadata": {},
   "outputs": [],
   "source": [
    "from glob import glob\n",
    "from os.path import basename\n",
    "background = \"QMMMData/With Background-\"\n",
    "nobackground = \"QMMMData/No Background-\"\n",
    "\n",
    "systems = [basename(x) for x in glob(background+\"*\")]\n",
    "systems = [x.replace(\"With Background-\", \"\").replace(\".csv\",\"\") for x in systems]\n",
    "print(systems)"
   ]
  },
  {
   "cell_type": "code",
   "execution_count": null,
   "metadata": {},
   "outputs": [],
   "source": [
    "from pandas import read_csv\n",
    "\n",
    "data_set = {}\n",
    "data_set[\"Background\"] = {}\n",
    "data_set[\"No Background\"] = {}\n",
    "\n",
    "for back_type, fpath in zip(data_set, [background, nobackground]):\n",
    "    data_set[back_type] = {}\n",
    "    for s in systems:\n",
    "        fname = fpath+s+\".csv\"\n",
    "        data_set[back_type][s] = read_csv(fpath+s+\".csv\")"
   ]
  },
  {
   "cell_type": "code",
   "execution_count": null,
   "metadata": {},
   "outputs": [],
   "source": [
    "from pandas import DataFrame\n",
    "from numpy import array\n",
    "from numpy.linalg import norm\n",
    "headers = [\"Threshold\", \"Q0\", \"Q1\", \"Q2\"]\n",
    "error_set = {}\n",
    "for back_type in data_set:\n",
    "    error_set[back_type] = {}\n",
    "    for s in systems:\n",
    "        error_set[back_type][s] = DataFrame(columns=headers)\n",
    "        \n",
    "        row = data_set[back_type][s].loc[0]\n",
    "        Q0_ref = array(row[1])\n",
    "        Q1_ref = array(row[2:5])\n",
    "        Q2_ref = array(row[5:])\n",
    "        for index, row in data_set[back_type][s].iterrows():\n",
    "            if row[0] == \"Reference\":\n",
    "                continue\n",
    "            Q0 = array(row[1])\n",
    "            Q1 = array(row[2:5])\n",
    "            Q2 = array(row[5:])\n",
    "            error_row = [10**(-1*int(row[0])), norm(Q0 - Q0_ref)/norm(Q0_ref), \n",
    "                        norm(Q1 - Q1_ref)/norm(Q1_ref), norm(Q2 - Q2_ref)/norm(Q2_ref)]\n",
    "            new_row = DataFrame([error_row], columns=headers)\n",
    "            error_set[back_type][s] = error_set[back_type][s].append(new_row)"
   ]
  },
  {
   "cell_type": "code",
   "execution_count": null,
   "metadata": {},
   "outputs": [],
   "source": [
    "from matplotlib import pyplot as plt\n",
    "fig, axs = plt.subplots(2,3, figsize=(12,6))\n",
    "\n",
    "fs=14\n",
    "\n",
    "markers = ['^-', 'h-', 'o-', 'x-', '|-']\n",
    "\n",
    "for i, back_type in enumerate(data_set):\n",
    "    axs[i,0].set_ylabel(back_type, fontsize=fs)\n",
    "    for j in range(0, 3):\n",
    "        axs[i,j].set_xscale(\"log\")\n",
    "        axs[i,j].set_yscale(\"log\")\n",
    "        axs[i,j].set_ylim([1e-6, 1])\n",
    "for j, order in enumerate([\"Q0\", \"Q1\", \"Q2\"]):\n",
    "    axs[-1,j].set_xlabel(order,fontsize=fs)\n",
    "\n",
    "for i, back_type in enumerate(data_set):\n",
    "    for s, m in zip(systems, markers):\n",
    "        thresh = list(error_set[back_type][s][\"Threshold\"])\n",
    "        for j, col in enumerate([\"Q0\", \"Q1\", \"Q2\"]):\n",
    "            val = list(error_set[back_type][s][col])\n",
    "            axs[i,j].plot(thresh, val, m, label=s)\n",
    "            axs[i,j].set_xlim(max(thresh),min(thresh))\n",
    "\n",
    "# fig.tight_layout()\n",
    "axs[0,0].legend(loc=\"upper center\", bbox_to_anchor=(1.75,1.25),ncol=len(systems))\n",
    "fig.savefig(\"Pictures/QMMMConvergence.eps\")"
   ]
  },
  {
   "cell_type": "code",
   "execution_count": null,
   "metadata": {},
   "outputs": [],
   "source": []
  },
  {
   "cell_type": "code",
   "execution_count": null,
   "metadata": {},
   "outputs": [],
   "source": []
  }
 ],
 "metadata": {
  "kernelspec": {
   "display_name": "Python 2",
   "language": "python",
   "name": "python2"
  },
  "language_info": {
   "codemirror_mode": {
    "name": "ipython",
    "version": 2
   },
   "file_extension": ".py",
   "mimetype": "text/x-python",
   "name": "python",
   "nbconvert_exporter": "python",
   "pygments_lexer": "ipython2",
   "version": "2.7.12"
  }
 },
 "nbformat": 4,
 "nbformat_minor": 2
}
